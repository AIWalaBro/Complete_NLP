{
  "nbformat": 4,
  "nbformat_minor": 0,
  "metadata": {
    "colab": {
      "provenance": [],
      "authorship_tag": "ABX9TyME96Q/RwsdYM5BJmSwim+x",
      "include_colab_link": true
    },
    "kernelspec": {
      "name": "python3",
      "display_name": "Python 3"
    },
    "language_info": {
      "name": "python"
    }
  },
  "cells": [
    {
      "cell_type": "markdown",
      "metadata": {
        "id": "view-in-github",
        "colab_type": "text"
      },
      "source": [
        "<a href=\"https://colab.research.google.com/github/AIWalaBro/Complete_NLP/blob/main/NLP_Assignments/2_Assignments(Stem%2CLEM%2CNER).ipynb\" target=\"_parent\"><img src=\"https://colab.research.google.com/assets/colab-badge.svg\" alt=\"Open In Colab\"/></a>"
      ]
    },
    {
      "cell_type": "markdown",
      "source": [
        "In this assignment what we will do\n",
        "\n",
        "1. ➤ Tokenization\n",
        "2. ➤ Stemming\n",
        "3. ➤ Lemmatization\n",
        "4. ➤ Part-of-speech tagging\n",
        "5. ➤ Named entity recognition"
      ],
      "metadata": {
        "id": "6GTIBvKcm68b"
      }
    },
    {
      "cell_type": "code",
      "execution_count": 57,
      "metadata": {
        "id": "PqPNAScsmn-U"
      },
      "outputs": [],
      "source": [
        "paragraph = '''\n",
        "Narendra Damodardas Modi (Gujarati: [ˈnəɾendɾə dɑmodəɾˈdɑs ˈmodiː] i;\n",
        "born 17 September 1950)[b] is an Indian politician who has served as the 14th prime minister\n",
        "of India since May 2014. Modi was the Chief Minister of Gujarat from 2001 to 2014 and is the\n",
        "Member of Parliament (MP) for Varanasi. He is a member of the Bharatiya Janata Party (BJP)\n",
        "and of the Rashtriya Swayamsevak Sangh (RSS), a right-wing Hindu nationalist paramilitary\n",
        "volunteer organisation. He is the longest-serving prime minister from outside the Indian\n",
        "National Congress.\n",
        "\n",
        "Modi was born and raised in Vadnagar in northeastern Gujarat, where he completed his secondary\n",
        "education. He was introduced to the RSS at the age of eight. His account of helping his father\n",
        "sell tea at the Vadnagar railway station has not been reliably corroborated. At age 18, he was\n",
        "married to Jashodaben Modi, whom he abandoned soon after, only publicly acknowledging her four\n",
        "decades later when legally required to do so. Modi became a full-time worker for the RSS in\n",
        "Gujarat in 1971. The RSS assigned him to the BJP in 1985 and he held several positions within\n",
        "the party hierarchy until 2001, rising to the rank of general secretary.'''"
      ]
    },
    {
      "cell_type": "code",
      "source": [
        "# we are cretaing text file and this paragraph info will write overe there\n",
        "f = open('Narendra_modi.txt','w+')\n",
        "f.write(paragraph)\n",
        "\n",
        "# seek will move cursor at beginning point\n",
        "f.seek(0)\n",
        "content = f.read()\n",
        "print(content)\n"
      ],
      "metadata": {
        "colab": {
          "base_uri": "https://localhost:8080/"
        },
        "id": "txagyf7PoEi0",
        "outputId": "0b491674-bad8-465f-be15-a3d211d0a9f2"
      },
      "execution_count": 58,
      "outputs": [
        {
          "output_type": "stream",
          "name": "stdout",
          "text": [
            "\n",
            "Narendra Damodardas Modi (Gujarati: [ˈnəɾendɾə dɑmodəɾˈdɑs ˈmodiː] i; \n",
            "born 17 September 1950)[b] is an Indian politician who has served as the 14th prime minister\n",
            "of India since May 2014. Modi was the Chief Minister of Gujarat from 2001 to 2014 and is the\n",
            "Member of Parliament (MP) for Varanasi. He is a member of the Bharatiya Janata Party (BJP) \n",
            "and of the Rashtriya Swayamsevak Sangh (RSS), a right-wing Hindu nationalist paramilitary\n",
            "volunteer organisation. He is the longest-serving prime minister from outside the Indian \n",
            "National Congress.\n",
            "\n",
            "Modi was born and raised in Vadnagar in northeastern Gujarat, where he completed his secondary \n",
            "education. He was introduced to the RSS at the age of eight. His account of helping his father \n",
            "sell tea at the Vadnagar railway station has not been reliably corroborated. At age 18, he was\n",
            "married to Jashodaben Modi, whom he abandoned soon after, only publicly acknowledging her four\n",
            "decades later when legally required to do so. Modi became a full-time worker for the RSS in \n",
            "Gujarat in 1971. The RSS assigned him to the BJP in 1985 and he held several positions within\n",
            "the party hierarchy until 2001, rising to the rank of general secretary.\n"
          ]
        }
      ]
    },
    {
      "cell_type": "markdown",
      "source": [
        "# Porter Stemming"
      ],
      "metadata": {
        "id": "E7ML8dUdsAcV"
      }
    },
    {
      "cell_type": "code",
      "source": [
        "import nltk\n",
        "nltk.download('punkt')\n",
        "\n"
      ],
      "metadata": {
        "colab": {
          "base_uri": "https://localhost:8080/"
        },
        "id": "cnEvsgEAq60V",
        "outputId": "a4e94f9f-1ad6-4e59-f5fa-8816e22e756a"
      },
      "execution_count": 59,
      "outputs": [
        {
          "output_type": "stream",
          "name": "stderr",
          "text": [
            "[nltk_data] Downloading package punkt to /root/nltk_data...\n",
            "[nltk_data]   Package punkt is already up-to-date!\n"
          ]
        },
        {
          "output_type": "execute_result",
          "data": {
            "text/plain": [
              "True"
            ]
          },
          "metadata": {},
          "execution_count": 59
        }
      ]
    },
    {
      "cell_type": "code",
      "source": [
        "# import word tokenizer and sentense tokenizer from nltk\n",
        "from nltk.tokenize import word_tokenize\n",
        "from nltk.tokenize import sent_tokenize\n",
        "from nltk.stem import PorterStemmer\n",
        "\n"
      ],
      "metadata": {
        "id": "oWvf7SlVsL8X"
      },
      "execution_count": 60,
      "outputs": []
    },
    {
      "cell_type": "code",
      "source": [
        "nltk.download('stopwords')\n",
        "from nltk.corpus import stopwords"
      ],
      "metadata": {
        "colab": {
          "base_uri": "https://localhost:8080/"
        },
        "id": "sXgTr1xPwhvc",
        "outputId": "f21b1467-b116-479b-e09d-601d1e6627e7"
      },
      "execution_count": 61,
      "outputs": [
        {
          "output_type": "stream",
          "name": "stderr",
          "text": [
            "[nltk_data] Downloading package stopwords to /root/nltk_data...\n",
            "[nltk_data]   Package stopwords is already up-to-date!\n"
          ]
        }
      ]
    },
    {
      "cell_type": "code",
      "source": [
        "# now create a function where your funtion will do stemming for you\n",
        "# and we will used porter stemmer, snowball stemmer and Lancaster stemming\n",
        "stemmer = PorterStemmer()\n",
        "\n",
        "def porter_stemmed_text(texts):\n",
        "  sentenses = nltk.sent_tokenize(paragraph)\n",
        "  for i in range(len(sentenses)):\n",
        "    words = nltk.word_tokenize(sentenses[i])\n",
        "    words = [stemmer.stem(word) for word in words if word not in set(stopwords.words('english'))]\n",
        "    sentenses[i] = \" \".join(words)\n",
        "    return texts\n",
        "\n",
        "\n",
        "print(porter_stemmed_text(paragraph))"
      ],
      "metadata": {
        "colab": {
          "base_uri": "https://localhost:8080/"
        },
        "id": "3mn-n2iXsewB",
        "outputId": "98d2743a-b47c-43bb-f6f6-0f38a4d39d5f"
      },
      "execution_count": 62,
      "outputs": [
        {
          "output_type": "stream",
          "name": "stdout",
          "text": [
            "\n",
            "Narendra Damodardas Modi (Gujarati: [ˈnəɾendɾə dɑmodəɾˈdɑs ˈmodiː] i; \n",
            "born 17 September 1950)[b] is an Indian politician who has served as the 14th prime minister\n",
            "of India since May 2014. Modi was the Chief Minister of Gujarat from 2001 to 2014 and is the\n",
            "Member of Parliament (MP) for Varanasi. He is a member of the Bharatiya Janata Party (BJP) \n",
            "and of the Rashtriya Swayamsevak Sangh (RSS), a right-wing Hindu nationalist paramilitary\n",
            "volunteer organisation. He is the longest-serving prime minister from outside the Indian \n",
            "National Congress.\n",
            "\n",
            "Modi was born and raised in Vadnagar in northeastern Gujarat, where he completed his secondary \n",
            "education. He was introduced to the RSS at the age of eight. His account of helping his father \n",
            "sell tea at the Vadnagar railway station has not been reliably corroborated. At age 18, he was\n",
            "married to Jashodaben Modi, whom he abandoned soon after, only publicly acknowledging her four\n",
            "decades later when legally required to do so. Modi became a full-time worker for the RSS in \n",
            "Gujarat in 1971. The RSS assigned him to the BJP in 1985 and he held several positions within\n",
            "the party hierarchy until 2001, rising to the rank of general secretary.\n"
          ]
        }
      ]
    },
    {
      "cell_type": "markdown",
      "source": [
        "# Snowball stemmer"
      ],
      "metadata": {
        "id": "dPtDQcH91U02"
      }
    },
    {
      "cell_type": "code",
      "source": [
        "from nltk.stem.snowball import SnowballStemmer\n",
        "stemmer = SnowballStemmer(language = 'english')\n",
        "\n",
        "def snowball_stemmed_text(texts):\n",
        "  sentenses = nltk.sent_tokenize(paragraph)\n",
        "  for i in range(len(sentenses)):\n",
        "    words = nltk.word_tokenize(sentenses[i])\n",
        "    words = [stemmer.stem(word) for word in words if word not in set(stopwords.words('english'))]\n",
        "    sentenses[i] = \" \".join(words)\n",
        "    return texts\n",
        "\n",
        "\n",
        "print(snowball_stemmed_text(paragraph))"
      ],
      "metadata": {
        "colab": {
          "base_uri": "https://localhost:8080/"
        },
        "id": "kpfj72R3w2sH",
        "outputId": "91b8fffa-70ec-42aa-fd2b-a62d47585bd4"
      },
      "execution_count": 63,
      "outputs": [
        {
          "output_type": "stream",
          "name": "stdout",
          "text": [
            "\n",
            "Narendra Damodardas Modi (Gujarati: [ˈnəɾendɾə dɑmodəɾˈdɑs ˈmodiː] i; \n",
            "born 17 September 1950)[b] is an Indian politician who has served as the 14th prime minister\n",
            "of India since May 2014. Modi was the Chief Minister of Gujarat from 2001 to 2014 and is the\n",
            "Member of Parliament (MP) for Varanasi. He is a member of the Bharatiya Janata Party (BJP) \n",
            "and of the Rashtriya Swayamsevak Sangh (RSS), a right-wing Hindu nationalist paramilitary\n",
            "volunteer organisation. He is the longest-serving prime minister from outside the Indian \n",
            "National Congress.\n",
            "\n",
            "Modi was born and raised in Vadnagar in northeastern Gujarat, where he completed his secondary \n",
            "education. He was introduced to the RSS at the age of eight. His account of helping his father \n",
            "sell tea at the Vadnagar railway station has not been reliably corroborated. At age 18, he was\n",
            "married to Jashodaben Modi, whom he abandoned soon after, only publicly acknowledging her four\n",
            "decades later when legally required to do so. Modi became a full-time worker for the RSS in \n",
            "Gujarat in 1971. The RSS assigned him to the BJP in 1985 and he held several positions within\n",
            "the party hierarchy until 2001, rising to the rank of general secretary.\n"
          ]
        }
      ]
    },
    {
      "cell_type": "markdown",
      "source": [
        "# Lancaster Stemming"
      ],
      "metadata": {
        "id": "hXuR3rJB1QnN"
      }
    },
    {
      "cell_type": "code",
      "source": [
        "from nltk.stem.lancaster import LancasterStemmer\n",
        "stemmer = LancasterStemmer()\n",
        "\n",
        "def lancaster_stemmed_text(texts):\n",
        "  sentenses = nltk.sent_tokenize(paragraph)\n",
        "  for i in range(len(sentenses)):\n",
        "    words = nltk.word_tokenize(sentenses[i])\n",
        "    words = [stemmer.stem(word) for word in words if word not in set(stopwords.words('english'))]\n",
        "    sentenses[i] = \" \".join(words)\n",
        "    return texts\n",
        "\n",
        "\n",
        "print(lancaster_stemmed_text(paragraph))"
      ],
      "metadata": {
        "colab": {
          "base_uri": "https://localhost:8080/"
        },
        "id": "TPM5Yc-d1O9N",
        "outputId": "99961e6c-d200-49d5-b4f0-a0132828e295"
      },
      "execution_count": 64,
      "outputs": [
        {
          "output_type": "stream",
          "name": "stdout",
          "text": [
            "\n",
            "Narendra Damodardas Modi (Gujarati: [ˈnəɾendɾə dɑmodəɾˈdɑs ˈmodiː] i; \n",
            "born 17 September 1950)[b] is an Indian politician who has served as the 14th prime minister\n",
            "of India since May 2014. Modi was the Chief Minister of Gujarat from 2001 to 2014 and is the\n",
            "Member of Parliament (MP) for Varanasi. He is a member of the Bharatiya Janata Party (BJP) \n",
            "and of the Rashtriya Swayamsevak Sangh (RSS), a right-wing Hindu nationalist paramilitary\n",
            "volunteer organisation. He is the longest-serving prime minister from outside the Indian \n",
            "National Congress.\n",
            "\n",
            "Modi was born and raised in Vadnagar in northeastern Gujarat, where he completed his secondary \n",
            "education. He was introduced to the RSS at the age of eight. His account of helping his father \n",
            "sell tea at the Vadnagar railway station has not been reliably corroborated. At age 18, he was\n",
            "married to Jashodaben Modi, whom he abandoned soon after, only publicly acknowledging her four\n",
            "decades later when legally required to do so. Modi became a full-time worker for the RSS in \n",
            "Gujarat in 1971. The RSS assigned him to the BJP in 1985 and he held several positions within\n",
            "the party hierarchy until 2001, rising to the rank of general secretary.\n"
          ]
        }
      ]
    },
    {
      "cell_type": "markdown",
      "source": [
        "#Lemmatization"
      ],
      "metadata": {
        "id": "XG5w_XOf1xK6"
      }
    },
    {
      "cell_type": "code",
      "source": [
        "import nltk\n",
        "nltk.download('stopwords')\n",
        "nltk.download('punkt')\n",
        "nltk.download('wordnet')\n",
        "from nltk.stem import WordNetLemmatizer\n",
        "from nltk.corpus import stopwords"
      ],
      "metadata": {
        "colab": {
          "base_uri": "https://localhost:8080/"
        },
        "id": "f4TH5Dmy1r-h",
        "outputId": "bf75a1be-febf-4bd7-9077-4ab2d3d811a4"
      },
      "execution_count": 65,
      "outputs": [
        {
          "output_type": "stream",
          "name": "stderr",
          "text": [
            "[nltk_data] Downloading package stopwords to /root/nltk_data...\n",
            "[nltk_data]   Package stopwords is already up-to-date!\n",
            "[nltk_data] Downloading package punkt to /root/nltk_data...\n",
            "[nltk_data]   Package punkt is already up-to-date!\n",
            "[nltk_data] Downloading package wordnet to /root/nltk_data...\n",
            "[nltk_data]   Package wordnet is already up-to-date!\n"
          ]
        }
      ]
    },
    {
      "cell_type": "code",
      "source": [
        "lemmatizer = WordNetLemmatizer()\n",
        "sentences = nltk.sent_tokenize(paragraph)\n",
        "# Lemmatization\n",
        "def lemmatized_text(text):\n",
        "  for i in range(len(sentences)):\n",
        "    words = nltk.word_tokenize(sentences[i])\n",
        "    words = [lemmatizer.lemmatize(word) for word in words if word not in set(stopwords.words('english'))]\n",
        "    sentences[i] = ' '.join(words)\n",
        "    return text\n",
        "\n",
        "print(lemmatized_text(paragraph))"
      ],
      "metadata": {
        "colab": {
          "base_uri": "https://localhost:8080/"
        },
        "id": "QpFpDYBf19nx",
        "outputId": "dd4c16f7-4bcb-44e8-d711-ecc24b735d48"
      },
      "execution_count": 66,
      "outputs": [
        {
          "output_type": "stream",
          "name": "stdout",
          "text": [
            "\n",
            "Narendra Damodardas Modi (Gujarati: [ˈnəɾendɾə dɑmodəɾˈdɑs ˈmodiː] i; \n",
            "born 17 September 1950)[b] is an Indian politician who has served as the 14th prime minister\n",
            "of India since May 2014. Modi was the Chief Minister of Gujarat from 2001 to 2014 and is the\n",
            "Member of Parliament (MP) for Varanasi. He is a member of the Bharatiya Janata Party (BJP) \n",
            "and of the Rashtriya Swayamsevak Sangh (RSS), a right-wing Hindu nationalist paramilitary\n",
            "volunteer organisation. He is the longest-serving prime minister from outside the Indian \n",
            "National Congress.\n",
            "\n",
            "Modi was born and raised in Vadnagar in northeastern Gujarat, where he completed his secondary \n",
            "education. He was introduced to the RSS at the age of eight. His account of helping his father \n",
            "sell tea at the Vadnagar railway station has not been reliably corroborated. At age 18, he was\n",
            "married to Jashodaben Modi, whom he abandoned soon after, only publicly acknowledging her four\n",
            "decades later when legally required to do so. Modi became a full-time worker for the RSS in \n",
            "Gujarat in 1971. The RSS assigned him to the BJP in 1985 and he held several positions within\n",
            "the party hierarchy until 2001, rising to the rank of general secretary.\n"
          ]
        }
      ]
    },
    {
      "cell_type": "markdown",
      "source": [
        "# Part-of-speech tagging (POS tagging)"
      ],
      "metadata": {
        "id": "HAPmHAdV3Dad"
      }
    },
    {
      "cell_type": "code",
      "source": [
        "import spacy\n",
        "nlp = spacy.load('en_core_web_sm')\n",
        "pos_list = []\n",
        "for token in nlp(paragraph):\n",
        "  pos_list.append((token.text,'-->',token.pos_,'-->',token.tag_))\n",
        "\n",
        "\n",
        ""
      ],
      "metadata": {
        "id": "VBEWqLYR222p"
      },
      "execution_count": 67,
      "outputs": []
    },
    {
      "cell_type": "code",
      "source": [
        "pos_list"
      ],
      "metadata": {
        "colab": {
          "base_uri": "https://localhost:8080/"
        },
        "id": "mRLQEAmZ3FfE",
        "outputId": "5c1ba46e-3418-4bcf-84d1-9c48cf5c07c2"
      },
      "execution_count": 68,
      "outputs": [
        {
          "output_type": "execute_result",
          "data": {
            "text/plain": [
              "[('\\n', '-->', 'SPACE', '-->', '_SP'),\n",
              " ('Narendra', '-->', 'PROPN', '-->', 'NNP'),\n",
              " ('Damodardas', '-->', 'PROPN', '-->', 'NNP'),\n",
              " ('Modi', '-->', 'PROPN', '-->', 'NNP'),\n",
              " ('(', '-->', 'PUNCT', '-->', '-LRB-'),\n",
              " ('Gujarati', '-->', 'PROPN', '-->', 'NNP'),\n",
              " (':', '-->', 'PUNCT', '-->', ':'),\n",
              " ('[', '-->', 'X', '-->', 'XX'),\n",
              " ('ˈnəɾendɾə', '-->', 'NOUN', '-->', 'NNS'),\n",
              " ('dɑmodəɾˈdɑs', '-->', 'ADV', '-->', 'RB'),\n",
              " ('ˈmodiː', '-->', 'ADV', '-->', 'RB'),\n",
              " (']', '-->', 'X', '-->', 'XX'),\n",
              " ('i', '-->', 'PRON', '-->', 'PRP'),\n",
              " (';', '-->', 'PUNCT', '-->', ':'),\n",
              " ('\\n', '-->', 'SPACE', '-->', '_SP'),\n",
              " ('born', '-->', 'VERB', '-->', 'VBN'),\n",
              " ('17', '-->', 'NUM', '-->', 'CD'),\n",
              " ('September', '-->', 'PROPN', '-->', 'NNP'),\n",
              " ('1950)[b', '-->', 'NUM', '-->', 'CD'),\n",
              " (']', '-->', 'PUNCT', '-->', '-RRB-'),\n",
              " ('is', '-->', 'AUX', '-->', 'VBZ'),\n",
              " ('an', '-->', 'DET', '-->', 'DT'),\n",
              " ('Indian', '-->', 'ADJ', '-->', 'JJ'),\n",
              " ('politician', '-->', 'NOUN', '-->', 'NN'),\n",
              " ('who', '-->', 'PRON', '-->', 'WP'),\n",
              " ('has', '-->', 'AUX', '-->', 'VBZ'),\n",
              " ('served', '-->', 'VERB', '-->', 'VBN'),\n",
              " ('as', '-->', 'ADP', '-->', 'IN'),\n",
              " ('the', '-->', 'DET', '-->', 'DT'),\n",
              " ('14th', '-->', 'ADJ', '-->', 'JJ'),\n",
              " ('prime', '-->', 'ADJ', '-->', 'JJ'),\n",
              " ('minister', '-->', 'NOUN', '-->', 'NN'),\n",
              " ('\\n', '-->', 'SPACE', '-->', '_SP'),\n",
              " ('of', '-->', 'ADP', '-->', 'IN'),\n",
              " ('India', '-->', 'PROPN', '-->', 'NNP'),\n",
              " ('since', '-->', 'SCONJ', '-->', 'IN'),\n",
              " ('May', '-->', 'PROPN', '-->', 'NNP'),\n",
              " ('2014', '-->', 'NUM', '-->', 'CD'),\n",
              " ('.', '-->', 'PUNCT', '-->', '.'),\n",
              " ('Modi', '-->', 'PROPN', '-->', 'NNP'),\n",
              " ('was', '-->', 'AUX', '-->', 'VBD'),\n",
              " ('the', '-->', 'DET', '-->', 'DT'),\n",
              " ('Chief', '-->', 'PROPN', '-->', 'NNP'),\n",
              " ('Minister', '-->', 'PROPN', '-->', 'NNP'),\n",
              " ('of', '-->', 'ADP', '-->', 'IN'),\n",
              " ('Gujarat', '-->', 'PROPN', '-->', 'NNP'),\n",
              " ('from', '-->', 'ADP', '-->', 'IN'),\n",
              " ('2001', '-->', 'NUM', '-->', 'CD'),\n",
              " ('to', '-->', 'ADP', '-->', 'IN'),\n",
              " ('2014', '-->', 'NUM', '-->', 'CD'),\n",
              " ('and', '-->', 'CCONJ', '-->', 'CC'),\n",
              " ('is', '-->', 'AUX', '-->', 'VBZ'),\n",
              " ('the', '-->', 'DET', '-->', 'DT'),\n",
              " ('\\n', '-->', 'SPACE', '-->', '_SP'),\n",
              " ('Member', '-->', 'PROPN', '-->', 'NNP'),\n",
              " ('of', '-->', 'ADP', '-->', 'IN'),\n",
              " ('Parliament', '-->', 'PROPN', '-->', 'NNP'),\n",
              " ('(', '-->', 'PUNCT', '-->', '-LRB-'),\n",
              " ('MP', '-->', 'PROPN', '-->', 'NNP'),\n",
              " (')', '-->', 'PUNCT', '-->', '-RRB-'),\n",
              " ('for', '-->', 'ADP', '-->', 'IN'),\n",
              " ('Varanasi', '-->', 'PROPN', '-->', 'NNP'),\n",
              " ('.', '-->', 'PUNCT', '-->', '.'),\n",
              " ('He', '-->', 'PRON', '-->', 'PRP'),\n",
              " ('is', '-->', 'AUX', '-->', 'VBZ'),\n",
              " ('a', '-->', 'DET', '-->', 'DT'),\n",
              " ('member', '-->', 'NOUN', '-->', 'NN'),\n",
              " ('of', '-->', 'ADP', '-->', 'IN'),\n",
              " ('the', '-->', 'DET', '-->', 'DT'),\n",
              " ('Bharatiya', '-->', 'PROPN', '-->', 'NNP'),\n",
              " ('Janata', '-->', 'PROPN', '-->', 'NNP'),\n",
              " ('Party', '-->', 'PROPN', '-->', 'NNP'),\n",
              " ('(', '-->', 'PUNCT', '-->', '-LRB-'),\n",
              " ('BJP', '-->', 'PROPN', '-->', 'NNP'),\n",
              " (')', '-->', 'PUNCT', '-->', '-RRB-'),\n",
              " ('\\n', '-->', 'SPACE', '-->', '_SP'),\n",
              " ('and', '-->', 'CCONJ', '-->', 'CC'),\n",
              " ('of', '-->', 'ADP', '-->', 'IN'),\n",
              " ('the', '-->', 'DET', '-->', 'DT'),\n",
              " ('Rashtriya', '-->', 'PROPN', '-->', 'NNP'),\n",
              " ('Swayamsevak', '-->', 'PROPN', '-->', 'NNP'),\n",
              " ('Sangh', '-->', 'PROPN', '-->', 'NNP'),\n",
              " ('(', '-->', 'PUNCT', '-->', '-LRB-'),\n",
              " ('RSS', '-->', 'PROPN', '-->', 'NNP'),\n",
              " (')', '-->', 'PUNCT', '-->', '-RRB-'),\n",
              " (',', '-->', 'PUNCT', '-->', ','),\n",
              " ('a', '-->', 'DET', '-->', 'DT'),\n",
              " ('right', '-->', 'ADJ', '-->', 'JJ'),\n",
              " ('-', '-->', 'PUNCT', '-->', 'HYPH'),\n",
              " ('wing', '-->', 'NOUN', '-->', 'NN'),\n",
              " ('Hindu', '-->', 'PROPN', '-->', 'NNP'),\n",
              " ('nationalist', '-->', 'ADJ', '-->', 'JJ'),\n",
              " ('paramilitary', '-->', 'ADJ', '-->', 'JJ'),\n",
              " ('\\n', '-->', 'SPACE', '-->', '_SP'),\n",
              " ('volunteer', '-->', 'NOUN', '-->', 'NN'),\n",
              " ('organisation', '-->', 'NOUN', '-->', 'NN'),\n",
              " ('.', '-->', 'PUNCT', '-->', '.'),\n",
              " ('He', '-->', 'PRON', '-->', 'PRP'),\n",
              " ('is', '-->', 'AUX', '-->', 'VBZ'),\n",
              " ('the', '-->', 'DET', '-->', 'DT'),\n",
              " ('longest', '-->', 'ADV', '-->', 'RBS'),\n",
              " ('-', '-->', 'PUNCT', '-->', 'HYPH'),\n",
              " ('serving', '-->', 'VERB', '-->', 'VBG'),\n",
              " ('prime', '-->', 'ADJ', '-->', 'JJ'),\n",
              " ('minister', '-->', 'NOUN', '-->', 'NN'),\n",
              " ('from', '-->', 'ADP', '-->', 'IN'),\n",
              " ('outside', '-->', 'ADP', '-->', 'IN'),\n",
              " ('the', '-->', 'DET', '-->', 'DT'),\n",
              " ('Indian', '-->', 'PROPN', '-->', 'NNP'),\n",
              " ('\\n', '-->', 'SPACE', '-->', '_SP'),\n",
              " ('National', '-->', 'PROPN', '-->', 'NNP'),\n",
              " ('Congress', '-->', 'PROPN', '-->', 'NNP'),\n",
              " ('.', '-->', 'PUNCT', '-->', '.'),\n",
              " ('\\n\\n', '-->', 'SPACE', '-->', '_SP'),\n",
              " ('Modi', '-->', 'PROPN', '-->', 'NNP'),\n",
              " ('was', '-->', 'AUX', '-->', 'VBD'),\n",
              " ('born', '-->', 'VERB', '-->', 'VBN'),\n",
              " ('and', '-->', 'CCONJ', '-->', 'CC'),\n",
              " ('raised', '-->', 'VERB', '-->', 'VBN'),\n",
              " ('in', '-->', 'ADP', '-->', 'IN'),\n",
              " ('Vadnagar', '-->', 'PROPN', '-->', 'NNP'),\n",
              " ('in', '-->', 'ADP', '-->', 'IN'),\n",
              " ('northeastern', '-->', 'ADJ', '-->', 'JJ'),\n",
              " ('Gujarat', '-->', 'PROPN', '-->', 'NNP'),\n",
              " (',', '-->', 'PUNCT', '-->', ','),\n",
              " ('where', '-->', 'SCONJ', '-->', 'WRB'),\n",
              " ('he', '-->', 'PRON', '-->', 'PRP'),\n",
              " ('completed', '-->', 'VERB', '-->', 'VBD'),\n",
              " ('his', '-->', 'PRON', '-->', 'PRP$'),\n",
              " ('secondary', '-->', 'ADJ', '-->', 'JJ'),\n",
              " ('\\n', '-->', 'SPACE', '-->', '_SP'),\n",
              " ('education', '-->', 'NOUN', '-->', 'NN'),\n",
              " ('.', '-->', 'PUNCT', '-->', '.'),\n",
              " ('He', '-->', 'PRON', '-->', 'PRP'),\n",
              " ('was', '-->', 'AUX', '-->', 'VBD'),\n",
              " ('introduced', '-->', 'VERB', '-->', 'VBN'),\n",
              " ('to', '-->', 'ADP', '-->', 'IN'),\n",
              " ('the', '-->', 'DET', '-->', 'DT'),\n",
              " ('RSS', '-->', 'PROPN', '-->', 'NNP'),\n",
              " ('at', '-->', 'ADP', '-->', 'IN'),\n",
              " ('the', '-->', 'DET', '-->', 'DT'),\n",
              " ('age', '-->', 'NOUN', '-->', 'NN'),\n",
              " ('of', '-->', 'ADP', '-->', 'IN'),\n",
              " ('eight', '-->', 'NUM', '-->', 'CD'),\n",
              " ('.', '-->', 'PUNCT', '-->', '.'),\n",
              " ('His', '-->', 'PRON', '-->', 'PRP$'),\n",
              " ('account', '-->', 'NOUN', '-->', 'NN'),\n",
              " ('of', '-->', 'ADP', '-->', 'IN'),\n",
              " ('helping', '-->', 'VERB', '-->', 'VBG'),\n",
              " ('his', '-->', 'PRON', '-->', 'PRP$'),\n",
              " ('father', '-->', 'NOUN', '-->', 'NN'),\n",
              " ('\\n', '-->', 'SPACE', '-->', '_SP'),\n",
              " ('sell', '-->', 'VERB', '-->', 'VB'),\n",
              " ('tea', '-->', 'NOUN', '-->', 'NN'),\n",
              " ('at', '-->', 'ADP', '-->', 'IN'),\n",
              " ('the', '-->', 'DET', '-->', 'DT'),\n",
              " ('Vadnagar', '-->', 'PROPN', '-->', 'NNP'),\n",
              " ('railway', '-->', 'NOUN', '-->', 'NN'),\n",
              " ('station', '-->', 'NOUN', '-->', 'NN'),\n",
              " ('has', '-->', 'AUX', '-->', 'VBZ'),\n",
              " ('not', '-->', 'PART', '-->', 'RB'),\n",
              " ('been', '-->', 'AUX', '-->', 'VBN'),\n",
              " ('reliably', '-->', 'ADV', '-->', 'RB'),\n",
              " ('corroborated', '-->', 'VERB', '-->', 'VBN'),\n",
              " ('.', '-->', 'PUNCT', '-->', '.'),\n",
              " ('At', '-->', 'ADP', '-->', 'IN'),\n",
              " ('age', '-->', 'NOUN', '-->', 'NN'),\n",
              " ('18', '-->', 'NUM', '-->', 'CD'),\n",
              " (',', '-->', 'PUNCT', '-->', ','),\n",
              " ('he', '-->', 'PRON', '-->', 'PRP'),\n",
              " ('was', '-->', 'AUX', '-->', 'VBD'),\n",
              " ('\\n', '-->', 'SPACE', '-->', '_SP'),\n",
              " ('married', '-->', 'ADJ', '-->', 'JJ'),\n",
              " ('to', '-->', 'ADP', '-->', 'IN'),\n",
              " ('Jashodaben', '-->', 'PROPN', '-->', 'NNP'),\n",
              " ('Modi', '-->', 'PROPN', '-->', 'NNP'),\n",
              " (',', '-->', 'PUNCT', '-->', ','),\n",
              " ('whom', '-->', 'PRON', '-->', 'WP'),\n",
              " ('he', '-->', 'PRON', '-->', 'PRP'),\n",
              " ('abandoned', '-->', 'VERB', '-->', 'VBD'),\n",
              " ('soon', '-->', 'ADV', '-->', 'RB'),\n",
              " ('after', '-->', 'ADV', '-->', 'RB'),\n",
              " (',', '-->', 'PUNCT', '-->', ','),\n",
              " ('only', '-->', 'ADV', '-->', 'RB'),\n",
              " ('publicly', '-->', 'ADV', '-->', 'RB'),\n",
              " ('acknowledging', '-->', 'VERB', '-->', 'VBG'),\n",
              " ('her', '-->', 'PRON', '-->', 'PRP$'),\n",
              " ('four', '-->', 'NUM', '-->', 'CD'),\n",
              " ('\\n', '-->', 'SPACE', '-->', '_SP'),\n",
              " ('decades', '-->', 'NOUN', '-->', 'NNS'),\n",
              " ('later', '-->', 'ADV', '-->', 'RB'),\n",
              " ('when', '-->', 'SCONJ', '-->', 'WRB'),\n",
              " ('legally', '-->', 'ADV', '-->', 'RB'),\n",
              " ('required', '-->', 'VERB', '-->', 'VBN'),\n",
              " ('to', '-->', 'PART', '-->', 'TO'),\n",
              " ('do', '-->', 'VERB', '-->', 'VB'),\n",
              " ('so', '-->', 'ADV', '-->', 'RB'),\n",
              " ('.', '-->', 'PUNCT', '-->', '.'),\n",
              " ('Modi', '-->', 'PROPN', '-->', 'NNP'),\n",
              " ('became', '-->', 'VERB', '-->', 'VBD'),\n",
              " ('a', '-->', 'DET', '-->', 'DT'),\n",
              " ('full', '-->', 'ADJ', '-->', 'JJ'),\n",
              " ('-', '-->', 'PUNCT', '-->', 'HYPH'),\n",
              " ('time', '-->', 'NOUN', '-->', 'NN'),\n",
              " ('worker', '-->', 'NOUN', '-->', 'NN'),\n",
              " ('for', '-->', 'ADP', '-->', 'IN'),\n",
              " ('the', '-->', 'DET', '-->', 'DT'),\n",
              " ('RSS', '-->', 'PROPN', '-->', 'NNP'),\n",
              " ('in', '-->', 'ADP', '-->', 'IN'),\n",
              " ('\\n', '-->', 'SPACE', '-->', '_SP'),\n",
              " ('Gujarat', '-->', 'PROPN', '-->', 'NNP'),\n",
              " ('in', '-->', 'ADP', '-->', 'IN'),\n",
              " ('1971', '-->', 'NUM', '-->', 'CD'),\n",
              " ('.', '-->', 'PUNCT', '-->', '.'),\n",
              " ('The', '-->', 'DET', '-->', 'DT'),\n",
              " ('RSS', '-->', 'PROPN', '-->', 'NNP'),\n",
              " ('assigned', '-->', 'VERB', '-->', 'VBD'),\n",
              " ('him', '-->', 'PRON', '-->', 'PRP'),\n",
              " ('to', '-->', 'ADP', '-->', 'IN'),\n",
              " ('the', '-->', 'DET', '-->', 'DT'),\n",
              " ('BJP', '-->', 'PROPN', '-->', 'NNP'),\n",
              " ('in', '-->', 'ADP', '-->', 'IN'),\n",
              " ('1985', '-->', 'NUM', '-->', 'CD'),\n",
              " ('and', '-->', 'CCONJ', '-->', 'CC'),\n",
              " ('he', '-->', 'PRON', '-->', 'PRP'),\n",
              " ('held', '-->', 'VERB', '-->', 'VBD'),\n",
              " ('several', '-->', 'ADJ', '-->', 'JJ'),\n",
              " ('positions', '-->', 'NOUN', '-->', 'NNS'),\n",
              " ('within', '-->', 'ADP', '-->', 'IN'),\n",
              " ('\\n', '-->', 'SPACE', '-->', '_SP'),\n",
              " ('the', '-->', 'DET', '-->', 'DT'),\n",
              " ('party', '-->', 'NOUN', '-->', 'NN'),\n",
              " ('hierarchy', '-->', 'NOUN', '-->', 'NN'),\n",
              " ('until', '-->', 'ADP', '-->', 'IN'),\n",
              " ('2001', '-->', 'NUM', '-->', 'CD'),\n",
              " (',', '-->', 'PUNCT', '-->', ','),\n",
              " ('rising', '-->', 'VERB', '-->', 'VBG'),\n",
              " ('to', '-->', 'ADP', '-->', 'IN'),\n",
              " ('the', '-->', 'DET', '-->', 'DT'),\n",
              " ('rank', '-->', 'NOUN', '-->', 'NN'),\n",
              " ('of', '-->', 'ADP', '-->', 'IN'),\n",
              " ('general', '-->', 'ADJ', '-->', 'JJ'),\n",
              " ('secretary', '-->', 'NOUN', '-->', 'NN'),\n",
              " ('.', '-->', 'PUNCT', '-->', '.')]"
            ]
          },
          "metadata": {},
          "execution_count": 68
        }
      ]
    },
    {
      "cell_type": "markdown",
      "source": [
        "# Named Entity Recognition (NER)"
      ],
      "metadata": {
        "id": "wrIv4pHR46kh"
      }
    },
    {
      "cell_type": "code",
      "source": [
        "import spacy\n",
        "from spacy import displacy\n",
        "NER = spacy.load('en_core_web_sm')\n",
        "\n",
        "texts = NER(paragraph)\n",
        "for word in texts.ents:\n",
        "  print(word.text,\"*************>>>\",word.label_)\n"
      ],
      "metadata": {
        "colab": {
          "base_uri": "https://localhost:8080/"
        },
        "id": "7NvG7OqV4xv4",
        "outputId": "2b4b539d-8eb5-4ae3-f648-599bdf55556e"
      },
      "execution_count": 71,
      "outputs": [
        {
          "output_type": "stream",
          "name": "stdout",
          "text": [
            "Narendra Damodardas Modi *************>>> PERSON\n",
            "Gujarati *************>>> GPE\n",
            "17 *************>>> CARDINAL\n",
            "Indian *************>>> NORP\n",
            "14th *************>>> ORDINAL\n",
            "India *************>>> GPE\n",
            "May 2014 *************>>> DATE\n",
            "Gujarat *************>>> GPE\n",
            "2001 *************>>> DATE\n",
            "2014 *************>>> DATE\n",
            "Parliament *************>>> ORG\n",
            "Varanasi *************>>> LOC\n",
            "the Bharatiya Janata Party *************>>> ORG\n",
            "BJP *************>>> ORG\n",
            "the Rashtriya Swayamsevak Sangh *************>>> ORG\n",
            "RSS *************>>> ORG\n",
            "Hindu *************>>> NORP\n",
            "Indian *************>>> NORP\n",
            "National Congress *************>>> ORG\n",
            "Vadnagar *************>>> GPE\n",
            "Gujarat *************>>> GPE\n",
            "RSS *************>>> ORG\n",
            "the age of eight *************>>> DATE\n",
            "Vadnagar *************>>> GPE\n",
            "age 18 *************>>> DATE\n",
            "Jashodaben Modi *************>>> ORG\n",
            "four\n",
            "decades later *************>>> DATE\n",
            "RSS *************>>> ORG\n",
            "Gujarat *************>>> GPE\n",
            "1971 *************>>> DATE\n",
            "RSS *************>>> ORG\n",
            "BJP *************>>> ORG\n",
            "1985 *************>>> DATE\n",
            "2001 *************>>> DATE\n"
          ]
        }
      ]
    },
    {
      "cell_type": "code",
      "source": [
        "spacy.explain('ORG')"
      ],
      "metadata": {
        "colab": {
          "base_uri": "https://localhost:8080/",
          "height": 36
        },
        "id": "weJ7mIJn7t98",
        "outputId": "fa61cb84-8c10-42d5-9f8d-886b06aff999"
      },
      "execution_count": 72,
      "outputs": [
        {
          "output_type": "execute_result",
          "data": {
            "text/plain": [
              "'Companies, agencies, institutions, etc.'"
            ],
            "application/vnd.google.colaboratory.intrinsic+json": {
              "type": "string"
            }
          },
          "metadata": {},
          "execution_count": 72
        }
      ]
    },
    {
      "cell_type": "code",
      "source": [
        "spacy.explain('GPE')"
      ],
      "metadata": {
        "colab": {
          "base_uri": "https://localhost:8080/",
          "height": 36
        },
        "id": "jHquW_fV78zc",
        "outputId": "69c93f42-2f2e-494f-ebb2-fc910affd897"
      },
      "execution_count": 73,
      "outputs": [
        {
          "output_type": "execute_result",
          "data": {
            "text/plain": [
              "'Countries, cities, states'"
            ],
            "application/vnd.google.colaboratory.intrinsic+json": {
              "type": "string"
            }
          },
          "metadata": {},
          "execution_count": 73
        }
      ]
    },
    {
      "cell_type": "code",
      "source": [
        "displacy.render(texts, style = 'ent',jupyter = True )"
      ],
      "metadata": {
        "colab": {
          "base_uri": "https://localhost:8080/",
          "height": 647
        },
        "id": "DU_ifm7b8BPB",
        "outputId": "1fa2a562-5fba-48d1-c211-6c1e30a77dff"
      },
      "execution_count": 76,
      "outputs": [
        {
          "output_type": "display_data",
          "data": {
            "text/plain": [
              "<IPython.core.display.HTML object>"
            ],
            "text/html": [
              "<span class=\"tex2jax_ignore\"><div class=\"entities\" style=\"line-height: 2.5; direction: ltr\"><br>\n",
              "<mark class=\"entity\" style=\"background: #aa9cfc; padding: 0.45em 0.6em; margin: 0 0.25em; line-height: 1; border-radius: 0.35em;\">\n",
              "    Narendra Damodardas Modi\n",
              "    <span style=\"font-size: 0.8em; font-weight: bold; line-height: 1; border-radius: 0.35em; vertical-align: middle; margin-left: 0.5rem\">PERSON</span>\n",
              "</mark>\n",
              " (\n",
              "<mark class=\"entity\" style=\"background: #feca74; padding: 0.45em 0.6em; margin: 0 0.25em; line-height: 1; border-radius: 0.35em;\">\n",
              "    Gujarati\n",
              "    <span style=\"font-size: 0.8em; font-weight: bold; line-height: 1; border-radius: 0.35em; vertical-align: middle; margin-left: 0.5rem\">GPE</span>\n",
              "</mark>\n",
              ": [ˈnəɾendɾə dɑmodəɾˈdɑs ˈmodiː] i; <br>born \n",
              "<mark class=\"entity\" style=\"background: #e4e7d2; padding: 0.45em 0.6em; margin: 0 0.25em; line-height: 1; border-radius: 0.35em;\">\n",
              "    17\n",
              "    <span style=\"font-size: 0.8em; font-weight: bold; line-height: 1; border-radius: 0.35em; vertical-align: middle; margin-left: 0.5rem\">CARDINAL</span>\n",
              "</mark>\n",
              " September 1950)[b] is an \n",
              "<mark class=\"entity\" style=\"background: #c887fb; padding: 0.45em 0.6em; margin: 0 0.25em; line-height: 1; border-radius: 0.35em;\">\n",
              "    Indian\n",
              "    <span style=\"font-size: 0.8em; font-weight: bold; line-height: 1; border-radius: 0.35em; vertical-align: middle; margin-left: 0.5rem\">NORP</span>\n",
              "</mark>\n",
              " politician who has served as the \n",
              "<mark class=\"entity\" style=\"background: #e4e7d2; padding: 0.45em 0.6em; margin: 0 0.25em; line-height: 1; border-radius: 0.35em;\">\n",
              "    14th\n",
              "    <span style=\"font-size: 0.8em; font-weight: bold; line-height: 1; border-radius: 0.35em; vertical-align: middle; margin-left: 0.5rem\">ORDINAL</span>\n",
              "</mark>\n",
              " prime minister<br>of \n",
              "<mark class=\"entity\" style=\"background: #feca74; padding: 0.45em 0.6em; margin: 0 0.25em; line-height: 1; border-radius: 0.35em;\">\n",
              "    India\n",
              "    <span style=\"font-size: 0.8em; font-weight: bold; line-height: 1; border-radius: 0.35em; vertical-align: middle; margin-left: 0.5rem\">GPE</span>\n",
              "</mark>\n",
              " since \n",
              "<mark class=\"entity\" style=\"background: #bfe1d9; padding: 0.45em 0.6em; margin: 0 0.25em; line-height: 1; border-radius: 0.35em;\">\n",
              "    May 2014\n",
              "    <span style=\"font-size: 0.8em; font-weight: bold; line-height: 1; border-radius: 0.35em; vertical-align: middle; margin-left: 0.5rem\">DATE</span>\n",
              "</mark>\n",
              ". Modi was the Chief Minister of \n",
              "<mark class=\"entity\" style=\"background: #feca74; padding: 0.45em 0.6em; margin: 0 0.25em; line-height: 1; border-radius: 0.35em;\">\n",
              "    Gujarat\n",
              "    <span style=\"font-size: 0.8em; font-weight: bold; line-height: 1; border-radius: 0.35em; vertical-align: middle; margin-left: 0.5rem\">GPE</span>\n",
              "</mark>\n",
              " from \n",
              "<mark class=\"entity\" style=\"background: #bfe1d9; padding: 0.45em 0.6em; margin: 0 0.25em; line-height: 1; border-radius: 0.35em;\">\n",
              "    2001\n",
              "    <span style=\"font-size: 0.8em; font-weight: bold; line-height: 1; border-radius: 0.35em; vertical-align: middle; margin-left: 0.5rem\">DATE</span>\n",
              "</mark>\n",
              " to \n",
              "<mark class=\"entity\" style=\"background: #bfe1d9; padding: 0.45em 0.6em; margin: 0 0.25em; line-height: 1; border-radius: 0.35em;\">\n",
              "    2014\n",
              "    <span style=\"font-size: 0.8em; font-weight: bold; line-height: 1; border-radius: 0.35em; vertical-align: middle; margin-left: 0.5rem\">DATE</span>\n",
              "</mark>\n",
              " and is the<br>Member of \n",
              "<mark class=\"entity\" style=\"background: #7aecec; padding: 0.45em 0.6em; margin: 0 0.25em; line-height: 1; border-radius: 0.35em;\">\n",
              "    Parliament\n",
              "    <span style=\"font-size: 0.8em; font-weight: bold; line-height: 1; border-radius: 0.35em; vertical-align: middle; margin-left: 0.5rem\">ORG</span>\n",
              "</mark>\n",
              " (MP) for \n",
              "<mark class=\"entity\" style=\"background: #ff9561; padding: 0.45em 0.6em; margin: 0 0.25em; line-height: 1; border-radius: 0.35em;\">\n",
              "    Varanasi\n",
              "    <span style=\"font-size: 0.8em; font-weight: bold; line-height: 1; border-radius: 0.35em; vertical-align: middle; margin-left: 0.5rem\">LOC</span>\n",
              "</mark>\n",
              ". He is a member of \n",
              "<mark class=\"entity\" style=\"background: #7aecec; padding: 0.45em 0.6em; margin: 0 0.25em; line-height: 1; border-radius: 0.35em;\">\n",
              "    the Bharatiya Janata Party\n",
              "    <span style=\"font-size: 0.8em; font-weight: bold; line-height: 1; border-radius: 0.35em; vertical-align: middle; margin-left: 0.5rem\">ORG</span>\n",
              "</mark>\n",
              " (\n",
              "<mark class=\"entity\" style=\"background: #7aecec; padding: 0.45em 0.6em; margin: 0 0.25em; line-height: 1; border-radius: 0.35em;\">\n",
              "    BJP\n",
              "    <span style=\"font-size: 0.8em; font-weight: bold; line-height: 1; border-radius: 0.35em; vertical-align: middle; margin-left: 0.5rem\">ORG</span>\n",
              "</mark>\n",
              ") <br>and of \n",
              "<mark class=\"entity\" style=\"background: #7aecec; padding: 0.45em 0.6em; margin: 0 0.25em; line-height: 1; border-radius: 0.35em;\">\n",
              "    the Rashtriya Swayamsevak Sangh\n",
              "    <span style=\"font-size: 0.8em; font-weight: bold; line-height: 1; border-radius: 0.35em; vertical-align: middle; margin-left: 0.5rem\">ORG</span>\n",
              "</mark>\n",
              " (\n",
              "<mark class=\"entity\" style=\"background: #7aecec; padding: 0.45em 0.6em; margin: 0 0.25em; line-height: 1; border-radius: 0.35em;\">\n",
              "    RSS\n",
              "    <span style=\"font-size: 0.8em; font-weight: bold; line-height: 1; border-radius: 0.35em; vertical-align: middle; margin-left: 0.5rem\">ORG</span>\n",
              "</mark>\n",
              "), a right-wing \n",
              "<mark class=\"entity\" style=\"background: #c887fb; padding: 0.45em 0.6em; margin: 0 0.25em; line-height: 1; border-radius: 0.35em;\">\n",
              "    Hindu\n",
              "    <span style=\"font-size: 0.8em; font-weight: bold; line-height: 1; border-radius: 0.35em; vertical-align: middle; margin-left: 0.5rem\">NORP</span>\n",
              "</mark>\n",
              " nationalist paramilitary<br>volunteer organisation. He is the longest-serving prime minister from outside the \n",
              "<mark class=\"entity\" style=\"background: #c887fb; padding: 0.45em 0.6em; margin: 0 0.25em; line-height: 1; border-radius: 0.35em;\">\n",
              "    Indian\n",
              "    <span style=\"font-size: 0.8em; font-weight: bold; line-height: 1; border-radius: 0.35em; vertical-align: middle; margin-left: 0.5rem\">NORP</span>\n",
              "</mark>\n",
              " <br>\n",
              "<mark class=\"entity\" style=\"background: #7aecec; padding: 0.45em 0.6em; margin: 0 0.25em; line-height: 1; border-radius: 0.35em;\">\n",
              "    National Congress\n",
              "    <span style=\"font-size: 0.8em; font-weight: bold; line-height: 1; border-radius: 0.35em; vertical-align: middle; margin-left: 0.5rem\">ORG</span>\n",
              "</mark>\n",
              ".<br><br>Modi was born and raised in \n",
              "<mark class=\"entity\" style=\"background: #feca74; padding: 0.45em 0.6em; margin: 0 0.25em; line-height: 1; border-radius: 0.35em;\">\n",
              "    Vadnagar\n",
              "    <span style=\"font-size: 0.8em; font-weight: bold; line-height: 1; border-radius: 0.35em; vertical-align: middle; margin-left: 0.5rem\">GPE</span>\n",
              "</mark>\n",
              " in northeastern \n",
              "<mark class=\"entity\" style=\"background: #feca74; padding: 0.45em 0.6em; margin: 0 0.25em; line-height: 1; border-radius: 0.35em;\">\n",
              "    Gujarat\n",
              "    <span style=\"font-size: 0.8em; font-weight: bold; line-height: 1; border-radius: 0.35em; vertical-align: middle; margin-left: 0.5rem\">GPE</span>\n",
              "</mark>\n",
              ", where he completed his secondary <br>education. He was introduced to the \n",
              "<mark class=\"entity\" style=\"background: #7aecec; padding: 0.45em 0.6em; margin: 0 0.25em; line-height: 1; border-radius: 0.35em;\">\n",
              "    RSS\n",
              "    <span style=\"font-size: 0.8em; font-weight: bold; line-height: 1; border-radius: 0.35em; vertical-align: middle; margin-left: 0.5rem\">ORG</span>\n",
              "</mark>\n",
              " at \n",
              "<mark class=\"entity\" style=\"background: #bfe1d9; padding: 0.45em 0.6em; margin: 0 0.25em; line-height: 1; border-radius: 0.35em;\">\n",
              "    the age of eight\n",
              "    <span style=\"font-size: 0.8em; font-weight: bold; line-height: 1; border-radius: 0.35em; vertical-align: middle; margin-left: 0.5rem\">DATE</span>\n",
              "</mark>\n",
              ". His account of helping his father <br>sell tea at the \n",
              "<mark class=\"entity\" style=\"background: #feca74; padding: 0.45em 0.6em; margin: 0 0.25em; line-height: 1; border-radius: 0.35em;\">\n",
              "    Vadnagar\n",
              "    <span style=\"font-size: 0.8em; font-weight: bold; line-height: 1; border-radius: 0.35em; vertical-align: middle; margin-left: 0.5rem\">GPE</span>\n",
              "</mark>\n",
              " railway station has not been reliably corroborated. At \n",
              "<mark class=\"entity\" style=\"background: #bfe1d9; padding: 0.45em 0.6em; margin: 0 0.25em; line-height: 1; border-radius: 0.35em;\">\n",
              "    age 18\n",
              "    <span style=\"font-size: 0.8em; font-weight: bold; line-height: 1; border-radius: 0.35em; vertical-align: middle; margin-left: 0.5rem\">DATE</span>\n",
              "</mark>\n",
              ", he was<br>married to \n",
              "<mark class=\"entity\" style=\"background: #7aecec; padding: 0.45em 0.6em; margin: 0 0.25em; line-height: 1; border-radius: 0.35em;\">\n",
              "    Jashodaben Modi\n",
              "    <span style=\"font-size: 0.8em; font-weight: bold; line-height: 1; border-radius: 0.35em; vertical-align: middle; margin-left: 0.5rem\">ORG</span>\n",
              "</mark>\n",
              ", whom he abandoned soon after, only publicly acknowledging her \n",
              "<mark class=\"entity\" style=\"background: #bfe1d9; padding: 0.45em 0.6em; margin: 0 0.25em; line-height: 1; border-radius: 0.35em;\">\n",
              "    four\n",
              "decades later\n",
              "    <span style=\"font-size: 0.8em; font-weight: bold; line-height: 1; border-radius: 0.35em; vertical-align: middle; margin-left: 0.5rem\">DATE</span>\n",
              "</mark>\n",
              " when legally required to do so. Modi became a full-time worker for the \n",
              "<mark class=\"entity\" style=\"background: #7aecec; padding: 0.45em 0.6em; margin: 0 0.25em; line-height: 1; border-radius: 0.35em;\">\n",
              "    RSS\n",
              "    <span style=\"font-size: 0.8em; font-weight: bold; line-height: 1; border-radius: 0.35em; vertical-align: middle; margin-left: 0.5rem\">ORG</span>\n",
              "</mark>\n",
              " in <br>\n",
              "<mark class=\"entity\" style=\"background: #feca74; padding: 0.45em 0.6em; margin: 0 0.25em; line-height: 1; border-radius: 0.35em;\">\n",
              "    Gujarat\n",
              "    <span style=\"font-size: 0.8em; font-weight: bold; line-height: 1; border-radius: 0.35em; vertical-align: middle; margin-left: 0.5rem\">GPE</span>\n",
              "</mark>\n",
              " in \n",
              "<mark class=\"entity\" style=\"background: #bfe1d9; padding: 0.45em 0.6em; margin: 0 0.25em; line-height: 1; border-radius: 0.35em;\">\n",
              "    1971\n",
              "    <span style=\"font-size: 0.8em; font-weight: bold; line-height: 1; border-radius: 0.35em; vertical-align: middle; margin-left: 0.5rem\">DATE</span>\n",
              "</mark>\n",
              ". The \n",
              "<mark class=\"entity\" style=\"background: #7aecec; padding: 0.45em 0.6em; margin: 0 0.25em; line-height: 1; border-radius: 0.35em;\">\n",
              "    RSS\n",
              "    <span style=\"font-size: 0.8em; font-weight: bold; line-height: 1; border-radius: 0.35em; vertical-align: middle; margin-left: 0.5rem\">ORG</span>\n",
              "</mark>\n",
              " assigned him to the \n",
              "<mark class=\"entity\" style=\"background: #7aecec; padding: 0.45em 0.6em; margin: 0 0.25em; line-height: 1; border-radius: 0.35em;\">\n",
              "    BJP\n",
              "    <span style=\"font-size: 0.8em; font-weight: bold; line-height: 1; border-radius: 0.35em; vertical-align: middle; margin-left: 0.5rem\">ORG</span>\n",
              "</mark>\n",
              " in \n",
              "<mark class=\"entity\" style=\"background: #bfe1d9; padding: 0.45em 0.6em; margin: 0 0.25em; line-height: 1; border-radius: 0.35em;\">\n",
              "    1985\n",
              "    <span style=\"font-size: 0.8em; font-weight: bold; line-height: 1; border-radius: 0.35em; vertical-align: middle; margin-left: 0.5rem\">DATE</span>\n",
              "</mark>\n",
              " and he held several positions within<br>the party hierarchy until \n",
              "<mark class=\"entity\" style=\"background: #bfe1d9; padding: 0.45em 0.6em; margin: 0 0.25em; line-height: 1; border-radius: 0.35em;\">\n",
              "    2001\n",
              "    <span style=\"font-size: 0.8em; font-weight: bold; line-height: 1; border-radius: 0.35em; vertical-align: middle; margin-left: 0.5rem\">DATE</span>\n",
              "</mark>\n",
              ", rising to the rank of general secretary.</div></span>"
            ]
          },
          "metadata": {}
        }
      ]
    },
    {
      "cell_type": "code",
      "source": [],
      "metadata": {
        "id": "pn6UD5Et8Oej"
      },
      "execution_count": null,
      "outputs": []
    }
  ]
}