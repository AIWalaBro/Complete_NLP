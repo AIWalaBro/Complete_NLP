{
  "nbformat": 4,
  "nbformat_minor": 0,
  "metadata": {
    "colab": {
      "provenance": [],
      "authorship_tag": "ABX9TyMPIvmbYWZquSO3tiESf/w5",
      "include_colab_link": true
    },
    "kernelspec": {
      "name": "python3",
      "display_name": "Python 3"
    },
    "language_info": {
      "name": "python"
    }
  },
  "cells": [
    {
      "cell_type": "markdown",
      "metadata": {
        "id": "view-in-github",
        "colab_type": "text"
      },
      "source": [
        "<a href=\"https://colab.research.google.com/github/AIWalaBro/Complete_NLP/blob/main/1.Basics_NLP/2_Text_Preprocessing.ipynb\" target=\"_parent\"><img src=\"https://colab.research.google.com/assets/colab-badge.svg\" alt=\"Open In Colab\"/></a>"
      ]
    },
    {
      "cell_type": "markdown",
      "source": [
        "# Text Processing For NLP"
      ],
      "metadata": {
        "id": "lJJor7sAoRND"
      }
    },
    {
      "cell_type": "markdown",
      "source": [
        "1. ➤ Text cleaning\n",
        "2. ➤ Tokenization\n",
        "3. ➤ Stemming\n",
        "4. ➤ Lemmatization\n",
        "5. ➤ Stemming vs Lemmatization\n",
        "6. ➤ Part-of-speech tagging\n",
        "7. ➤ Named entity recognition"
      ],
      "metadata": {
        "id": "Q1sQbjP-oS9B"
      }
    },
    {
      "cell_type": "markdown",
      "source": [
        "##### Text Cleaning\n",
        "\n",
        "This involves removing unwanted characters, symbols, and words from the text data, such as punctuation, special characters, numbers, and stop words\n",
        "\n",
        "Computational Linguistics involves developing algorithms and techniques that allows computer to understand,generate and process human language.\n",
        "\n",
        "Uses below techniques to clean textual data\n",
        "- Make all characters into lowercase\n",
        "- Remove punctuation\n",
        "- Remove numbers\n",
        "- Remove Emojis\n",
        "- Strip HTML Tags\n",
        "- Remove URLs, Mentions (@), hastags (#) and special characters\n",
        "- Remove stop words"
      ],
      "metadata": {
        "id": "yN82yxrvxHd4"
      }
    },
    {
      "cell_type": "markdown",
      "source": [
        "## Create Files in Python"
      ],
      "metadata": {
        "id": "gAj-PstKxLyE"
      }
    },
    {
      "cell_type": "code",
      "execution_count": 2,
      "metadata": {
        "colab": {
          "base_uri": "https://localhost:8080/"
        },
        "id": "5Cf__RtRkGkQ",
        "outputId": "176f5a2c-4a42-40d1-cb8d-3aba52db6d15"
      },
      "outputs": [
        {
          "output_type": "stream",
          "name": "stdout",
          "text": [
            "[\"Hrithik Roshan (pronounced [ɾɪt̪ɪk ɾoʃən];[1] born 10 January 1974) is an Indian actor who works in Hindi cinema. He has portrayed a variety of characters and is known for his dancing skills. One of the highest-paid actors in India, he has won many awards, including six Filmfare Awards, of which four were for Best Actor. Starting from 2012, he has appeared in Forbes India's Celebrity 100 several times based on his income and popularity.\\n\", '\\n', \"Roshan has frequently collaborated with his father, Rakesh Roshan. He made brief appearances as a child actor in several films in the 1980s and later worked as an assistant director on four of his father's films. His first leading role was in the box-office success Kaho Naa... Pyaar Hai (2000), for which he received several awards. Performances in the 2000 terrorism drama Fiza and the 2001 ensemble family drama Kabhi Khushi Kabhie Gham... consolidated his reputation but were followed by several poorly received films.\\n\", '\\n', 'The 2003 science fiction film Koi... Mil Gaya, for which Roshan won two Filmfare Awards, was a turning point in his film career; he later starred as the titular superhero in its sequels: Krrish (2006) and Krrish 3 (2013). He earned praise for his portrayal of a thief in Dhoom 2 (2006), Mughal emperor Akbar in Jodhaa Akbar (2008) and a quadriplegic in Guzaarish (2010). He achieved further commercial success by playing the lead in the 2011 drama Zindagi Na Milegi Dobara, the 2012 revenge drama Agneepath, the 2014 action thriller Bang Bang!, the 2019 biopic Super 30, and the 2019 action thriller War; the lattermost ranks as his highest-grossing release.\\n', '\\n', 'Roshan has also performed on stage and debuted on television with the dance reality show Just Dance (2011). As a judge on the latter, he became the highest-paid film star on Indian television at that time. He is involved with a number of humanitarian causes, endorses several brands and products and has launched his own clothing line. Roshan was married for fourteen years to Sussanne Khan, with whom he has two children.']\n"
          ]
        }
      ],
      "source": [
        "with open(\"/content/Hrithik_Roshan.txt\",\"r+\") as f:\n",
        "  text = f.readlines()\n",
        "  print(text)"
      ]
    },
    {
      "cell_type": "markdown",
      "source": [
        "# Creates a file in python"
      ],
      "metadata": {
        "id": "iqp9ej-Nz60D"
      }
    },
    {
      "cell_type": "code",
      "source": [
        "f= open(\"analytics.txt\",\"w+\")"
      ],
      "metadata": {
        "id": "oGf3t4TcyrMV"
      },
      "execution_count": 3,
      "outputs": []
    },
    {
      "cell_type": "markdown",
      "source": [
        "##### Explanation\n",
        "- We declared the variable “f” to open a file named analytics.txt. Open takes 2 arguments, the file that we want to open and a string that represents the kinds of permission or operation we want to do on the file.\n",
        "\n",
        "- Here, we used “w” letter in our argument, which indicates Python write to file and it will create file in Python if it does not exist in library\n",
        "\n",
        "- Plus sign indicates both read and write for Python create file operation.\n"
      ],
      "metadata": {
        "id": "B671AkwB0Eq6"
      }
    },
    {
      "cell_type": "code",
      "source": [
        "for i in range(10):\n",
        "  f.write('This is the line %d\\r\\n'%(i+1))"
      ],
      "metadata": {
        "id": "xhk6KpT3z-8d"
      },
      "execution_count": 4,
      "outputs": []
    },
    {
      "cell_type": "markdown",
      "source": [
        "##### Explanation\n",
        "\n",
        "- We have a for loop that runs over a range of 10 numbers.\n",
        "- Using the write function to enter data into the file.\n",
        "- The output we want to iterate in the file is “this is line number”, which we declare with Python write file function and then percent d (displays integer)\n",
        "- Basically we are putting in the line number that we are writing, then putting it in a carriage return and a new line character"
      ],
      "metadata": {
        "id": "9u-whYlf0cCt"
      }
    },
    {
      "cell_type": "code",
      "source": [
        "f.close()"
      ],
      "metadata": {
        "id": "wvQkODRY0ZAg"
      },
      "execution_count": 5,
      "outputs": []
    },
    {
      "cell_type": "code",
      "source": [
        "# how the final output looks like that\n",
        "\n",
        "f = open('analytics1.txt', 'w+')\n",
        "for i in range(10):\n",
        "  f.write('This is the line brother %d\\r\\n'%(i+1))\n",
        "\n",
        "# f.close()"
      ],
      "metadata": {
        "id": "TwSp79U_0fAh"
      },
      "execution_count": 6,
      "outputs": []
    },
    {
      "cell_type": "code",
      "source": [
        "with open('analytics1.txt', 'r') as f:\n",
        "  print(f.readlines())\n",
        "f.close()\n",
        ""
      ],
      "metadata": {
        "colab": {
          "base_uri": "https://localhost:8080/"
        },
        "id": "Y7B6dcPw1HkZ",
        "outputId": "fce87133-0703-4145-f1b5-1a4d82079efd"
      },
      "execution_count": 7,
      "outputs": [
        {
          "output_type": "stream",
          "name": "stdout",
          "text": [
            "['This is the line brother 1\\n', 'This is the line brother 2\\n', 'This is the line brother 3\\n', 'This is the line brother 4\\n', 'This is the line brother 5\\n', 'This is the line brother 6\\n', 'This is the line brother 7\\n', 'This is the line brother 8\\n', 'This is the line brother 9\\n', 'This is the line brother 10\\n']\n"
          ]
        }
      ]
    },
    {
      "cell_type": "markdown",
      "source": [
        "# Append Text in Existing File using Python"
      ],
      "metadata": {
        "id": "BJkXQcE52E0Z"
      }
    },
    {
      "cell_type": "code",
      "source": [
        "f=open(\"analytics1.txt\", \"a+\")"
      ],
      "metadata": {
        "id": "QwFFRo_z1td1"
      },
      "execution_count": 8,
      "outputs": []
    },
    {
      "cell_type": "markdown",
      "source": [
        "###### Explanation\n",
        "-  if you could see a plus sign in the code, it indicates that it will create a new file if it does not exist. But in our case we already have the file, so we are not required to create a new file for Python append to file operation."
      ],
      "metadata": {
        "id": "hwP61wVl2MDc"
      }
    },
    {
      "cell_type": "markdown",
      "source": [
        "# Read text files in python"
      ],
      "metadata": {
        "id": "W9UVa3lVA6Cb"
      }
    },
    {
      "cell_type": "code",
      "source": [
        "f = open('Hrithik_Roshan.txt','r')\n",
        "if f.mode == 'r':\n",
        "  content = f.read()\n",
        "  print(content)"
      ],
      "metadata": {
        "colab": {
          "base_uri": "https://localhost:8080/"
        },
        "id": "jc3rWJuR2IrD",
        "outputId": "b1f8b8d7-e4ae-4221-d11f-2bde5ef14743"
      },
      "execution_count": 9,
      "outputs": [
        {
          "output_type": "stream",
          "name": "stdout",
          "text": [
            "Hrithik Roshan (pronounced [ɾɪt̪ɪk ɾoʃən];[1] born 10 January 1974) is an Indian actor who works in Hindi cinema. He has portrayed a variety of characters and is known for his dancing skills. One of the highest-paid actors in India, he has won many awards, including six Filmfare Awards, of which four were for Best Actor. Starting from 2012, he has appeared in Forbes India's Celebrity 100 several times based on his income and popularity.\n",
            "\n",
            "Roshan has frequently collaborated with his father, Rakesh Roshan. He made brief appearances as a child actor in several films in the 1980s and later worked as an assistant director on four of his father's films. His first leading role was in the box-office success Kaho Naa... Pyaar Hai (2000), for which he received several awards. Performances in the 2000 terrorism drama Fiza and the 2001 ensemble family drama Kabhi Khushi Kabhie Gham... consolidated his reputation but were followed by several poorly received films.\n",
            "\n",
            "The 2003 science fiction film Koi... Mil Gaya, for which Roshan won two Filmfare Awards, was a turning point in his film career; he later starred as the titular superhero in its sequels: Krrish (2006) and Krrish 3 (2013). He earned praise for his portrayal of a thief in Dhoom 2 (2006), Mughal emperor Akbar in Jodhaa Akbar (2008) and a quadriplegic in Guzaarish (2010). He achieved further commercial success by playing the lead in the 2011 drama Zindagi Na Milegi Dobara, the 2012 revenge drama Agneepath, the 2014 action thriller Bang Bang!, the 2019 biopic Super 30, and the 2019 action thriller War; the lattermost ranks as his highest-grossing release.\n",
            "\n",
            "Roshan has also performed on stage and debuted on television with the dance reality show Just Dance (2011). As a judge on the latter, he became the highest-paid film star on Indian television at that time. He is involved with a number of humanitarian causes, endorses several brands and products and has launched his own clothing line. Roshan was married for fourteen years to Sussanne Khan, with whom he has two children.\n"
          ]
        }
      ]
    },
    {
      "cell_type": "markdown",
      "source": [
        "#Tokenization"
      ],
      "metadata": {
        "id": "XQ35N-lOBt_z"
      }
    },
    {
      "cell_type": "markdown",
      "source": [
        "- This involves breaking up the text into individual words or tokens.\n",
        "- Tokenization is often the first step in many NLP tasks, as it allows the text to be analyzed on a word-by-word basis"
      ],
      "metadata": {
        "id": "xEDDGnaOB0By"
      }
    },
    {
      "cell_type": "code",
      "source": [
        "# NLTK Installation\n",
        "!pip install --user -U nltk"
      ],
      "metadata": {
        "colab": {
          "base_uri": "https://localhost:8080/"
        },
        "id": "8pjfwuAfBcwG",
        "outputId": "dac7f433-74f2-48f7-f4f5-bd22f622edf2"
      },
      "execution_count": 10,
      "outputs": [
        {
          "output_type": "stream",
          "name": "stdout",
          "text": [
            "Requirement already satisfied: nltk in /usr/local/lib/python3.10/dist-packages (3.8.1)\n",
            "Requirement already satisfied: click in /usr/local/lib/python3.10/dist-packages (from nltk) (8.1.7)\n",
            "Requirement already satisfied: joblib in /usr/local/lib/python3.10/dist-packages (from nltk) (1.3.2)\n",
            "Requirement already satisfied: regex>=2021.8.3 in /usr/local/lib/python3.10/dist-packages (from nltk) (2023.6.3)\n",
            "Requirement already satisfied: tqdm in /usr/local/lib/python3.10/dist-packages (from nltk) (4.66.1)\n"
          ]
        }
      ]
    },
    {
      "cell_type": "code",
      "source": [
        "import nltk\n",
        "nltk.download('punkt')"
      ],
      "metadata": {
        "colab": {
          "base_uri": "https://localhost:8080/"
        },
        "id": "g5q6q5SXCQGz",
        "outputId": "57bb657c-84d0-420e-ba4c-9d678c3f783d"
      },
      "execution_count": 11,
      "outputs": [
        {
          "output_type": "stream",
          "name": "stderr",
          "text": [
            "[nltk_data] Downloading package punkt to /root/nltk_data...\n",
            "[nltk_data]   Unzipping tokenizers/punkt.zip.\n"
          ]
        },
        {
          "output_type": "execute_result",
          "data": {
            "text/plain": [
              "True"
            ]
          },
          "metadata": {},
          "execution_count": 11
        }
      ]
    },
    {
      "cell_type": "markdown",
      "source": [
        "#### Word Tokenization"
      ],
      "metadata": {
        "id": "BgXKqoTNJrZB"
      }
    },
    {
      "cell_type": "code",
      "source": [
        "from nltk.tokenize import word_tokenize"
      ],
      "metadata": {
        "id": "k6_9T-oEB5Xk"
      },
      "execution_count": 12,
      "outputs": []
    },
    {
      "cell_type": "code",
      "source": [
        "word_token = word_tokenize(content)\n",
        "print(word_token)"
      ],
      "metadata": {
        "colab": {
          "base_uri": "https://localhost:8080/"
        },
        "id": "i5lRY1q2CCF9",
        "outputId": "d4f1c402-6267-4ce5-9236-3699a4bf853e"
      },
      "execution_count": 13,
      "outputs": [
        {
          "output_type": "stream",
          "name": "stdout",
          "text": [
            "['Hrithik', 'Roshan', '(', 'pronounced', '[', 'ɾɪt̪ɪk', 'ɾoʃən', ']', ';', '[', '1', ']', 'born', '10', 'January', '1974', ')', 'is', 'an', 'Indian', 'actor', 'who', 'works', 'in', 'Hindi', 'cinema', '.', 'He', 'has', 'portrayed', 'a', 'variety', 'of', 'characters', 'and', 'is', 'known', 'for', 'his', 'dancing', 'skills', '.', 'One', 'of', 'the', 'highest-paid', 'actors', 'in', 'India', ',', 'he', 'has', 'won', 'many', 'awards', ',', 'including', 'six', 'Filmfare', 'Awards', ',', 'of', 'which', 'four', 'were', 'for', 'Best', 'Actor', '.', 'Starting', 'from', '2012', ',', 'he', 'has', 'appeared', 'in', 'Forbes', 'India', \"'s\", 'Celebrity', '100', 'several', 'times', 'based', 'on', 'his', 'income', 'and', 'popularity', '.', 'Roshan', 'has', 'frequently', 'collaborated', 'with', 'his', 'father', ',', 'Rakesh', 'Roshan', '.', 'He', 'made', 'brief', 'appearances', 'as', 'a', 'child', 'actor', 'in', 'several', 'films', 'in', 'the', '1980s', 'and', 'later', 'worked', 'as', 'an', 'assistant', 'director', 'on', 'four', 'of', 'his', 'father', \"'s\", 'films', '.', 'His', 'first', 'leading', 'role', 'was', 'in', 'the', 'box-office', 'success', 'Kaho', 'Naa', '...', 'Pyaar', 'Hai', '(', '2000', ')', ',', 'for', 'which', 'he', 'received', 'several', 'awards', '.', 'Performances', 'in', 'the', '2000', 'terrorism', 'drama', 'Fiza', 'and', 'the', '2001', 'ensemble', 'family', 'drama', 'Kabhi', 'Khushi', 'Kabhie', 'Gham', '...', 'consolidated', 'his', 'reputation', 'but', 'were', 'followed', 'by', 'several', 'poorly', 'received', 'films', '.', 'The', '2003', 'science', 'fiction', 'film', 'Koi', '...', 'Mil', 'Gaya', ',', 'for', 'which', 'Roshan', 'won', 'two', 'Filmfare', 'Awards', ',', 'was', 'a', 'turning', 'point', 'in', 'his', 'film', 'career', ';', 'he', 'later', 'starred', 'as', 'the', 'titular', 'superhero', 'in', 'its', 'sequels', ':', 'Krrish', '(', '2006', ')', 'and', 'Krrish', '3', '(', '2013', ')', '.', 'He', 'earned', 'praise', 'for', 'his', 'portrayal', 'of', 'a', 'thief', 'in', 'Dhoom', '2', '(', '2006', ')', ',', 'Mughal', 'emperor', 'Akbar', 'in', 'Jodhaa', 'Akbar', '(', '2008', ')', 'and', 'a', 'quadriplegic', 'in', 'Guzaarish', '(', '2010', ')', '.', 'He', 'achieved', 'further', 'commercial', 'success', 'by', 'playing', 'the', 'lead', 'in', 'the', '2011', 'drama', 'Zindagi', 'Na', 'Milegi', 'Dobara', ',', 'the', '2012', 'revenge', 'drama', 'Agneepath', ',', 'the', '2014', 'action', 'thriller', 'Bang', 'Bang', '!', ',', 'the', '2019', 'biopic', 'Super', '30', ',', 'and', 'the', '2019', 'action', 'thriller', 'War', ';', 'the', 'lattermost', 'ranks', 'as', 'his', 'highest-grossing', 'release', '.', 'Roshan', 'has', 'also', 'performed', 'on', 'stage', 'and', 'debuted', 'on', 'television', 'with', 'the', 'dance', 'reality', 'show', 'Just', 'Dance', '(', '2011', ')', '.', 'As', 'a', 'judge', 'on', 'the', 'latter', ',', 'he', 'became', 'the', 'highest-paid', 'film', 'star', 'on', 'Indian', 'television', 'at', 'that', 'time', '.', 'He', 'is', 'involved', 'with', 'a', 'number', 'of', 'humanitarian', 'causes', ',', 'endorses', 'several', 'brands', 'and', 'products', 'and', 'has', 'launched', 'his', 'own', 'clothing', 'line', '.', 'Roshan', 'was', 'married', 'for', 'fourteen', 'years', 'to', 'Sussanne', 'Khan', ',', 'with', 'whom', 'he', 'has', 'two', 'children', '.']\n"
          ]
        }
      ]
    },
    {
      "cell_type": "markdown",
      "source": [
        "### Sentence tokenization"
      ],
      "metadata": {
        "id": "VOhUxtRVJn7w"
      }
    },
    {
      "cell_type": "code",
      "source": [
        "from nltk.tokenize import sent_tokenize"
      ],
      "metadata": {
        "id": "1_huKmvnCH7E"
      },
      "execution_count": 14,
      "outputs": []
    },
    {
      "cell_type": "code",
      "source": [
        "sentense_token = sent_tokenize(content)\n",
        "sentense_token"
      ],
      "metadata": {
        "colab": {
          "base_uri": "https://localhost:8080/"
        },
        "id": "gghJO_5RC8wK",
        "outputId": "7eaf8bce-8c74-4c68-bfca-34c1fcc929a5"
      },
      "execution_count": 15,
      "outputs": [
        {
          "output_type": "execute_result",
          "data": {
            "text/plain": [
              "['Hrithik Roshan (pronounced [ɾɪt̪ɪk ɾoʃən];[1] born 10 January 1974) is an Indian actor who works in Hindi cinema.',\n",
              " 'He has portrayed a variety of characters and is known for his dancing skills.',\n",
              " 'One of the highest-paid actors in India, he has won many awards, including six Filmfare Awards, of which four were for Best Actor.',\n",
              " \"Starting from 2012, he has appeared in Forbes India's Celebrity 100 several times based on his income and popularity.\",\n",
              " 'Roshan has frequently collaborated with his father, Rakesh Roshan.',\n",
              " \"He made brief appearances as a child actor in several films in the 1980s and later worked as an assistant director on four of his father's films.\",\n",
              " 'His first leading role was in the box-office success Kaho Naa... Pyaar Hai (2000), for which he received several awards.',\n",
              " 'Performances in the 2000 terrorism drama Fiza and the 2001 ensemble family drama Kabhi Khushi Kabhie Gham... consolidated his reputation but were followed by several poorly received films.',\n",
              " 'The 2003 science fiction film Koi... Mil Gaya, for which Roshan won two Filmfare Awards, was a turning point in his film career; he later starred as the titular superhero in its sequels: Krrish (2006) and Krrish 3 (2013).',\n",
              " 'He earned praise for his portrayal of a thief in Dhoom 2 (2006), Mughal emperor Akbar in Jodhaa Akbar (2008) and a quadriplegic in Guzaarish (2010).',\n",
              " 'He achieved further commercial success by playing the lead in the 2011 drama Zindagi Na Milegi Dobara, the 2012 revenge drama Agneepath, the 2014 action thriller Bang Bang!, the 2019 biopic Super 30, and the 2019 action thriller War; the lattermost ranks as his highest-grossing release.',\n",
              " 'Roshan has also performed on stage and debuted on television with the dance reality show Just Dance (2011).',\n",
              " 'As a judge on the latter, he became the highest-paid film star on Indian television at that time.',\n",
              " 'He is involved with a number of humanitarian causes, endorses several brands and products and has launched his own clothing line.',\n",
              " 'Roshan was married for fourteen years to Sussanne Khan, with whom he has two children.']"
            ]
          },
          "metadata": {},
          "execution_count": 15
        }
      ]
    },
    {
      "cell_type": "markdown",
      "source": [
        "# Stemming perform on Hritik wikipedia data"
      ],
      "metadata": {
        "id": "6Gnl_oxHD9qy"
      }
    },
    {
      "cell_type": "markdown",
      "source": [
        "#### Why we Need Stemming?\n",
        "In NLP use cases such as sentiment analysis, spam classification, restaurant reviews etc., getting base word is important to know whether the word is positive or negative. Stemming is used to get that base word."
      ],
      "metadata": {
        "id": "1xNEPOr2EHNG"
      }
    },
    {
      "cell_type": "markdown",
      "source": [
        "## Types of Stemming\n",
        "\n",
        "There are several types of stemming algorithms used in NLP, including\n",
        "\n",
        "#### Porter stemming\n",
        "\n",
        "- This is one of the most widely used stemming algorithms in NLP\n",
        "- It was developed by Martin Porter in 1979\n",
        "- Based on a set of heuristic rules that remove common suffixes from words, such as \"-ing\" and \"-ly\"\n",
        "- Porter stemming is simple and fast.\n",
        "\n",
        "#### Snowball stemming\n",
        "\n",
        "- This is an extension of the Porter stemming algorithm\n",
        "- It includes additional rules for stemming words in different languages, including French, German, and Spanish\n",
        "- Snowball stemming is more accurate than Porter stemming\n",
        "- It is slower and more complex\n",
        "\n",
        "#### Lancaster stemming\n",
        "\n",
        "- This is a highly aggressive stemming algorithm\n",
        "- Lancaster stemming is very fast and produces very aggressive stems, but it may produce stems that are not actual words"
      ],
      "metadata": {
        "id": "2Wo1tnF4EKfR"
      }
    },
    {
      "cell_type": "markdown",
      "source": [
        "#  Implementation -> Porter stemming"
      ],
      "metadata": {
        "id": "Gai3gy2vFJ44"
      }
    },
    {
      "cell_type": "code",
      "source": [
        "nltk.download('stopwords')\n",
        "from nltk.corpus import stopwords\n",
        "from nltk.stem import PorterStemmer"
      ],
      "metadata": {
        "colab": {
          "base_uri": "https://localhost:8080/"
        },
        "id": "XX4Fzx-qD2Hp",
        "outputId": "07f3c35a-d293-4252-d7c7-7b8c584309ea"
      },
      "execution_count": 16,
      "outputs": [
        {
          "output_type": "stream",
          "name": "stderr",
          "text": [
            "[nltk_data] Downloading package stopwords to /root/nltk_data...\n",
            "[nltk_data]   Unzipping corpora/stopwords.zip.\n"
          ]
        }
      ]
    },
    {
      "cell_type": "code",
      "source": [
        "paragraph = '''\n",
        "Read today's horoscope, September 7, 2023. Today we'll be taking a closer look at\n",
        "what the stars have in store for each of the 12 zodiac signs. Our astrologer has analyzed\n",
        "the movements of the planets and the alignment of the stars to bring you the most accurate\n",
        "and up-to-date horoscope predictions for the day ahead. Whether you're looking for guidance\n",
        "on love, career, or simply a heads up on what to expect, this video has got you covered.\n",
        "Let's dive in to see what the cosmos have in store for you today.\n",
        "\n",
        "Sagittarius: Today you may have detachment with responsibilities, you have given.\n",
        "You also expend more in purchasing worthless stuffs, which may increase negativity in the\n",
        "house or office. You are advised to keep an eye on your opponents and rivals, otherwise\n",
        "you may be victim of conspiracy. It is advised to read documents carefully before putting\n",
        "your signature.\n",
        "'''"
      ],
      "metadata": {
        "id": "-Q1tax3xFvU0"
      },
      "execution_count": 17,
      "outputs": []
    },
    {
      "cell_type": "code",
      "source": [
        "\n",
        "# convert paragraph into sentenses by sentense tokenizer\n",
        "from nltk.tokenize import sent_tokenize\n",
        "sentenses = sent_tokenize(paragraph)\n",
        "print(sentenses)\n",
        "\n",
        "# converting sentenses into word tokenize\n",
        "from nltk.tokenize import word_tokenize\n",
        "words = word_tokenize(paragraph)\n",
        "\n",
        "\n",
        "\n",
        "print(\"\\n\\n ***********Result after Stemming*********** \\n\\n\")\n",
        "\n",
        "stemmer = PorterStemmer()\n",
        "\n",
        "for i in range(len(sentenses)):\n",
        "  words = nltk.word_tokenize(sentenses[i])\n",
        "  words = [stemmer.stem(word) for word in words if word not in set(stopwords.words('english'))]\n",
        "  sentenses[i] = ' '.join(words)\n",
        "print(sentenses)"
      ],
      "metadata": {
        "colab": {
          "base_uri": "https://localhost:8080/"
        },
        "id": "tz4-VChEJjf2",
        "outputId": "c46ac41f-29d3-499b-e136-16eafe6bdbcd"
      },
      "execution_count": 32,
      "outputs": [
        {
          "output_type": "stream",
          "name": "stdout",
          "text": [
            "[\"\\nRead today's horoscope, September 7, 2023.\", \"Today we'll be taking a closer look at \\nwhat the stars have in store for each of the 12 zodiac signs.\", 'Our astrologer has analyzed\\nthe movements of the planets and the alignment of the stars to bring you the most accurate \\nand up-to-date horoscope predictions for the day ahead.', \"Whether you're looking for guidance \\non love, career, or simply a heads up on what to expect, this video has got you covered.\", \"Let's dive in to see what the cosmos have in store for you today.\", 'Sagittarius: Today you may have detachment with responsibilities, you have given.', 'You also expend more in purchasing worthless stuffs, which may increase negativity in the\\nhouse or office.', 'You are advised to keep an eye on your opponents and rivals, otherwise \\nyou may be victim of conspiracy.', 'It is advised to read documents carefully before putting \\nyour signature.']\n",
            "\n",
            "\n",
            " ***********Result after Stemming*********** \n",
            "\n",
            "\n",
            "[\"read today 's horoscop , septemb 7 , 2023 .\", \"today 'll take closer look star store 12 zodiac sign .\", 'our astrolog analyz movement planet align star bring accur up-to-d horoscop predict day ahead .', \"whether 're look guidanc love , career , simpli head expect , video got cover .\", \"let 's dive see cosmo store today .\", 'sagittariu : today may detach respons , given .', 'you also expend purchas worthless stuff , may increas neg hous offic .', 'you advis keep eye oppon rival , otherwis may victim conspiraci .', 'it advis read document care put signatur .']\n"
          ]
        }
      ]
    },
    {
      "cell_type": "code",
      "source": [
        "# stopwords\n",
        "print(stopwords.words('english'))"
      ],
      "metadata": {
        "colab": {
          "base_uri": "https://localhost:8080/"
        },
        "id": "Wxp_TSynUDBg",
        "outputId": "610c4596-e7a6-4f32-c0e7-1ccdaaf36438"
      },
      "execution_count": 33,
      "outputs": [
        {
          "output_type": "stream",
          "name": "stdout",
          "text": [
            "['i', 'me', 'my', 'myself', 'we', 'our', 'ours', 'ourselves', 'you', \"you're\", \"you've\", \"you'll\", \"you'd\", 'your', 'yours', 'yourself', 'yourselves', 'he', 'him', 'his', 'himself', 'she', \"she's\", 'her', 'hers', 'herself', 'it', \"it's\", 'its', 'itself', 'they', 'them', 'their', 'theirs', 'themselves', 'what', 'which', 'who', 'whom', 'this', 'that', \"that'll\", 'these', 'those', 'am', 'is', 'are', 'was', 'were', 'be', 'been', 'being', 'have', 'has', 'had', 'having', 'do', 'does', 'did', 'doing', 'a', 'an', 'the', 'and', 'but', 'if', 'or', 'because', 'as', 'until', 'while', 'of', 'at', 'by', 'for', 'with', 'about', 'against', 'between', 'into', 'through', 'during', 'before', 'after', 'above', 'below', 'to', 'from', 'up', 'down', 'in', 'out', 'on', 'off', 'over', 'under', 'again', 'further', 'then', 'once', 'here', 'there', 'when', 'where', 'why', 'how', 'all', 'any', 'both', 'each', 'few', 'more', 'most', 'other', 'some', 'such', 'no', 'nor', 'not', 'only', 'own', 'same', 'so', 'than', 'too', 'very', 's', 't', 'can', 'will', 'just', 'don', \"don't\", 'should', \"should've\", 'now', 'd', 'll', 'm', 'o', 're', 've', 'y', 'ain', 'aren', \"aren't\", 'couldn', \"couldn't\", 'didn', \"didn't\", 'doesn', \"doesn't\", 'hadn', \"hadn't\", 'hasn', \"hasn't\", 'haven', \"haven't\", 'isn', \"isn't\", 'ma', 'mightn', \"mightn't\", 'mustn', \"mustn't\", 'needn', \"needn't\", 'shan', \"shan't\", 'shouldn', \"shouldn't\", 'wasn', \"wasn't\", 'weren', \"weren't\", 'won', \"won't\", 'wouldn', \"wouldn't\"]\n"
          ]
        }
      ]
    },
    {
      "cell_type": "code",
      "source": [
        "# stopwords\n",
        "print(len(stopwords.words('english')))"
      ],
      "metadata": {
        "colab": {
          "base_uri": "https://localhost:8080/"
        },
        "id": "ZiO0YcyUUj_T",
        "outputId": "298a7680-4f6c-4330-d214-40f91bd40592"
      },
      "execution_count": 34,
      "outputs": [
        {
          "output_type": "stream",
          "name": "stdout",
          "text": [
            "179\n"
          ]
        }
      ]
    },
    {
      "cell_type": "markdown",
      "source": [
        "# Implementation -> Snowball stemming"
      ],
      "metadata": {
        "id": "l0lsokBeUrSe"
      }
    },
    {
      "cell_type": "code",
      "source": [
        "# implementing snowball stemmer\n",
        "from nltk.stem import SnowballStemmer\n",
        "\n",
        "stemmer = SnowballStemmer(language = 'english')\n",
        "\n",
        "snowstem_word = []\n",
        "for x in range(len(sentenses)):\n",
        "  words = nltk.word_tokenize(sentenses[x])\n",
        "  words = [stemmer.stem(word) for word in words if word not in set(stopwords.words('english'))]\n",
        "  snowstem_word.append(' '.join(words))\n",
        "print(snowstem_word)\n"
      ],
      "metadata": {
        "colab": {
          "base_uri": "https://localhost:8080/"
        },
        "id": "jDGQLbcTUoJW",
        "outputId": "db51cdb2-c2f8-4581-e0e4-5c4a9107a8b0"
      },
      "execution_count": 36,
      "outputs": [
        {
          "output_type": "stream",
          "name": "stdout",
          "text": [
            "[\"read today 's horoscop , septemb 7 , 2023 .\", 'today ll take closer look star store 12 zodiac sign .', 'astrolog analyz movement planet align star bring accur up-to-d horoscop predict day ahead .', 'whether re look guidanc love , career , simpli head expect , video got cover .', \"let 's dive see cosmo store today .\", 'sagittariu : today may detach respon , given .', 'also expend purcha worthless stuff , may increa neg hous offic .', 'advi keep eye oppon rival , otherwi may victim conspiraci .', 'advi read document care put signatur .']\n"
          ]
        }
      ]
    },
    {
      "cell_type": "code",
      "source": [
        "from nltk.stem import SnowballStemmer\n",
        "\n",
        "# Create a Snowball Stemmer object for English\n",
        "stemmer = SnowballStemmer(language='english')\n",
        "\n",
        "# Define a list of words to be stemmed\n",
        "words = ['running', 'ran', 'runs']\n",
        "\n",
        "# Iterate over each word and stem it using Snowball Stemmer\n",
        "stemmed_words = []\n",
        "for word in words:\n",
        "   stemmed_word = stemmer.stem(word)\n",
        "   stemmed_words.append(stemmed_word)\n",
        "\n",
        "# Print the original words and their stemmed forms\n",
        "for i in range(len(words)):\n",
        "   print(f'Original Word: {words[i]}, Stemmed Word: {stemmed_words[i]}')"
      ],
      "metadata": {
        "colab": {
          "base_uri": "https://localhost:8080/"
        },
        "id": "KjzCUAR-WIOh",
        "outputId": "c870a8b2-5350-4b1f-f472-a99a076e6b85"
      },
      "execution_count": 37,
      "outputs": [
        {
          "output_type": "stream",
          "name": "stdout",
          "text": [
            "Original Word: running, Stemmed Word: run\n",
            "Original Word: ran, Stemmed Word: ran\n",
            "Original Word: runs, Stemmed Word: run\n"
          ]
        }
      ]
    },
    {
      "cell_type": "markdown",
      "source": [
        "# Implementation -> Lancaster stemming"
      ],
      "metadata": {
        "id": "1h9uTZ2SWkod"
      }
    },
    {
      "cell_type": "code",
      "source": [
        "from nltk.stem import LancasterStemmer\n",
        "\n",
        "# Create a lancaster Stemmer object\n",
        "lancaster = LancasterStemmer()\n",
        "\n",
        "# Define a list of words to be stemmed\n",
        "words = ['eating','eats','eaten','puts','putting']\n",
        "\n",
        "# Print the original words and their stemmed forms\n",
        "for word in words:\n",
        "    print(word,\"--->\",lancaster.stem(word))"
      ],
      "metadata": {
        "colab": {
          "base_uri": "https://localhost:8080/"
        },
        "id": "b_DfqpMSWeeM",
        "outputId": "0df06e95-46b7-489f-ad22-2a052570dcd9"
      },
      "execution_count": 38,
      "outputs": [
        {
          "output_type": "stream",
          "name": "stdout",
          "text": [
            "eating ---> eat\n",
            "eats ---> eat\n",
            "eaten ---> eat\n",
            "puts ---> put\n",
            "putting ---> put\n"
          ]
        }
      ]
    },
    {
      "cell_type": "markdown",
      "source": [
        "# Lemmatization\n",
        "\n",
        "The purpose of lemmatization is same as that of stemming but overcomes the drawbacks of stemming. In stemming, for some words, it may not give may not give meaningful representation such as “Histori”. Here, lemmatization comes into picture as it gives meaningful word.\n",
        "\n",
        "Lemmatization takes more time as compared to stemming because it finds meaningful word/ representation. Stemming just needs to get a base word and therefore takes less time.\n",
        "\n",
        "Stemming has its application in Sentiment Analysis while Lemmatization has its application in Chatbots, human-answering."
      ],
      "metadata": {
        "id": "BZbjLV4uWul7"
      }
    },
    {
      "cell_type": "code",
      "source": [
        "import nltk\n",
        "nltk.download('stopwords')\n",
        "nltk.download('punkt')\n",
        "nltk.download('wordnet')\n",
        "from nltk.stem import WordNetLemmatizer\n",
        "from nltk.corpus import stopwords"
      ],
      "metadata": {
        "colab": {
          "base_uri": "https://localhost:8080/"
        },
        "id": "0dKzBfEtWqqS",
        "outputId": "72913833-5233-47fb-819b-9a70d9496f3d"
      },
      "execution_count": 39,
      "outputs": [
        {
          "output_type": "stream",
          "name": "stderr",
          "text": [
            "[nltk_data] Downloading package stopwords to /root/nltk_data...\n",
            "[nltk_data]   Package stopwords is already up-to-date!\n",
            "[nltk_data] Downloading package punkt to /root/nltk_data...\n",
            "[nltk_data]   Package punkt is already up-to-date!\n",
            "[nltk_data] Downloading package wordnet to /root/nltk_data...\n"
          ]
        }
      ]
    },
    {
      "cell_type": "code",
      "source": [
        "paragraph"
      ],
      "metadata": {
        "colab": {
          "base_uri": "https://localhost:8080/",
          "height": 179
        },
        "id": "JF6dFPM-W0Or",
        "outputId": "93777630-958c-46de-8b52-7e303b017975"
      },
      "execution_count": 46,
      "outputs": [
        {
          "output_type": "execute_result",
          "data": {
            "text/plain": [
              "\"\\nRead today's horoscope, September 7, 2023. Today we'll be taking a closer look at \\nwhat the stars have in store for each of the 12 zodiac signs. Our astrologer has analyzed\\nthe movements of the planets and the alignment of the stars to bring you the most accurate \\nand up-to-date horoscope predictions for the day ahead. Whether you're looking for guidance \\non love, career, or simply a heads up on what to expect, this video has got you covered.\\nLet's dive in to see what the cosmos have in store for you today.\\n\\nSagittarius: Today you may have detachment with responsibilities, you have given. \\nYou also expend more in purchasing worthless stuffs, which may increase negativity in the\\nhouse or office. You are advised to keep an eye on your opponents and rivals, otherwise \\nyou may be victim of conspiracy. It is advised to read documents carefully before putting \\nyour signature.\\n\""
            ],
            "application/vnd.google.colaboratory.intrinsic+json": {
              "type": "string"
            }
          },
          "metadata": {},
          "execution_count": 46
        }
      ]
    },
    {
      "cell_type": "code",
      "source": [
        "# Tokenization before stemming\n",
        "\n",
        "sentences = nltk.sent_tokenize(paragraph)\n",
        "print(sentences)"
      ],
      "metadata": {
        "colab": {
          "base_uri": "https://localhost:8080/"
        },
        "id": "ImuF9fXvW3h0",
        "outputId": "6c55dd65-e870-4bd5-e24e-bc03408e5689"
      },
      "execution_count": 47,
      "outputs": [
        {
          "output_type": "stream",
          "name": "stdout",
          "text": [
            "[\"\\nRead today's horoscope, September 7, 2023.\", \"Today we'll be taking a closer look at \\nwhat the stars have in store for each of the 12 zodiac signs.\", 'Our astrologer has analyzed\\nthe movements of the planets and the alignment of the stars to bring you the most accurate \\nand up-to-date horoscope predictions for the day ahead.', \"Whether you're looking for guidance \\non love, career, or simply a heads up on what to expect, this video has got you covered.\", \"Let's dive in to see what the cosmos have in store for you today.\", 'Sagittarius: Today you may have detachment with responsibilities, you have given.', 'You also expend more in purchasing worthless stuffs, which may increase negativity in the\\nhouse or office.', 'You are advised to keep an eye on your opponents and rivals, otherwise \\nyou may be victim of conspiracy.', 'It is advised to read documents carefully before putting \\nyour signature.']\n"
          ]
        }
      ]
    },
    {
      "cell_type": "markdown",
      "source": [
        "##### Lemmatization\n",
        "The difference between stemming and lemmatization comes in this step where WordNetLemmatizer() is used instead of PorterStemmer(). Rest of steps are the same."
      ],
      "metadata": {
        "id": "5Z1vIT9NXSMm"
      }
    },
    {
      "cell_type": "code",
      "source": [
        "lemmatizer = WordNetLemmatizer()\n",
        "\n",
        "print(sentences)\n",
        "\n",
        "\n",
        "print(\"\\n\\n Result after Lemmatization \\n\\n\")\n",
        "# Lemmatization\n",
        "for i in range(len(sentences)):\n",
        "    words = nltk.word_tokenize(sentences[i])\n",
        "    words = [lemmatizer.lemmatize(word) for word in words if word not in set(stopwords.words('english'))]\n",
        "    sentences[i] = ' '.join(words)\n",
        "\n",
        "print(sentences)"
      ],
      "metadata": {
        "colab": {
          "base_uri": "https://localhost:8080/"
        },
        "id": "aSM81FqeXLjc",
        "outputId": "99ddd38a-4c4f-4d6e-ab48-726c4d5d019d"
      },
      "execution_count": 48,
      "outputs": [
        {
          "output_type": "stream",
          "name": "stdout",
          "text": [
            "[\"\\nRead today's horoscope, September 7, 2023.\", \"Today we'll be taking a closer look at \\nwhat the stars have in store for each of the 12 zodiac signs.\", 'Our astrologer has analyzed\\nthe movements of the planets and the alignment of the stars to bring you the most accurate \\nand up-to-date horoscope predictions for the day ahead.', \"Whether you're looking for guidance \\non love, career, or simply a heads up on what to expect, this video has got you covered.\", \"Let's dive in to see what the cosmos have in store for you today.\", 'Sagittarius: Today you may have detachment with responsibilities, you have given.', 'You also expend more in purchasing worthless stuffs, which may increase negativity in the\\nhouse or office.', 'You are advised to keep an eye on your opponents and rivals, otherwise \\nyou may be victim of conspiracy.', 'It is advised to read documents carefully before putting \\nyour signature.']\n",
            "\n",
            "\n",
            " Result after Lemmatization \n",
            "\n",
            "\n",
            "[\"Read today 's horoscope , September 7 , 2023 .\", \"Today 'll taking closer look star store 12 zodiac sign .\", 'Our astrologer analyzed movement planet alignment star bring accurate up-to-date horoscope prediction day ahead .', \"Whether 're looking guidance love , career , simply head expect , video got covered .\", \"Let 's dive see cosmos store today .\", 'Sagittarius : Today may detachment responsibility , given .', 'You also expend purchasing worthless stuff , may increase negativity house office .', 'You advised keep eye opponent rival , otherwise may victim conspiracy .', 'It advised read document carefully putting signature .']\n"
          ]
        }
      ]
    },
    {
      "cell_type": "markdown",
      "source": [
        "#### Stemming vs Lemmatization\n",
        "\n",
        "##### Stemming\n",
        "- Stemming is a process that stems or removes last few characters from a word, often leading to incorrect meanings and spelling.\n",
        "\n",
        "- Example: stemming the word ‘Caring‘ would return ‘Car‘.\n",
        "\n",
        "- Stemming is used in case of large dataset where performance is an issue.\n",
        "\n",
        "##### Lemmatization\n",
        "- Lemmatization considers the context and converts the word to its meaningful base form, which is called Lemma.\n",
        "\n",
        "- Example: lemmatizing the word ‘Caring‘ would return ‘Care‘.\n",
        "\n",
        "- Lemmatization is computationally expensive since it involves look-up tables.\n",
        "\n"
      ],
      "metadata": {
        "id": "V6fcanBnXoPD"
      }
    },
    {
      "cell_type": "markdown",
      "source": [
        "# Question - Answer\n",
        "\n",
        "1. Which is better lemmatization or stemming?\n",
        "\n",
        "The choice depends on the specific use case. Lemmatization produces a linguistically valid word while stemming is faster but may generate non-words.\n",
        "\n",
        "2. Why is stemming faster than lemmatization?\n",
        "\n",
        "Stemming chops off word endings without considering linguistic context, making it computationally faster. Lemmatization analyzes word forms to determine the base or dictionary form, which takes more processing time."
      ],
      "metadata": {
        "id": "5ddLDWa4Xtqc"
      }
    },
    {
      "cell_type": "markdown",
      "source": [
        "# Part-of-speech tagging (POS tagging)\n",
        "\n",
        "- The process of labeling the words in a text with their corresponding parts of speech.\n",
        "\n",
        "- POS such as noun, verb, adjective, adverb, pronoun, preposition, conjunction, or interjection.\n",
        "\n",
        "- It is a crucial step in NLP as it helps to identify the grammatical structure of a sentence, which is important for tasks such as parsing, machine translation, and text-to-speech conversion.\n",
        "\n",
        "- POS tagging algorithms typically use statistical models or rule-based approaches to assign each word a part of speech tag based on its context and its relationship to neighboring words in a sentence.\n",
        "\n",
        "Example = The cat sat on the mat POS tagger would assign the tag \"DT\" (determiner) to \"The\", \"NN\" (noun) to \"cat\" and \"mat\", \"VBD\" (verb, past tense) to \"sat\", and \"IN\" (preposition) to \"on\""
      ],
      "metadata": {
        "id": "P9_tuJ4bXy77"
      }
    },
    {
      "cell_type": "code",
      "source": [
        "import spacy\n",
        "nlp = spacy.load('en_core_web_sm')\n",
        "\n",
        "text = 'the catsat on the mat'\n",
        "for token in nlp(text):\n",
        "  print(token.text,'=>',token.pos_,'=>',token.tag_)\n"
      ],
      "metadata": {
        "colab": {
          "base_uri": "https://localhost:8080/"
        },
        "id": "0pycVkYiXdFj",
        "outputId": "1958d09e-9d1d-4297-d8d2-755fd43c2c09"
      },
      "execution_count": 52,
      "outputs": [
        {
          "output_type": "stream",
          "name": "stdout",
          "text": [
            "the => DET => DT\n",
            "catsat => NOUN => NN\n",
            "on => ADP => IN\n",
            "the => DET => DT\n",
            "mat => NOUN => NN\n"
          ]
        }
      ]
    },
    {
      "cell_type": "markdown",
      "source": [
        "# Named Entity Recognition (NER)\n",
        "\n",
        "- The process of identifying and categorizing named entities in a text, such as people, organizations, locations, dates, and other types of entities.\n",
        "\n",
        "- NER is an important task in NLP because it helps to extract structured information from unstructured text data.\n",
        "\n",
        "- NER algorithms typically use machine learning models, such as Conditional Random Fields (CRF) or neural networks, to identify named entities based on their context and their relationship to other words in a sentence.\n",
        "\n",
        "- POS tagging algorithms typically use statistical models or rule-based approaches to assign each word a part of speech tag based on its context and its relationship to neighboring words in a sentence.\n",
        "\n",
        "Example = \"Apple is headquartered in Cupertino, California\",  NER system would recognize \"Apple\" as an organization and \"Cupertino, California\" as a location.****"
      ],
      "metadata": {
        "id": "GgC_9TiqYr60"
      }
    },
    {
      "cell_type": "code",
      "source": [
        "import spacy\n",
        "from spacy import displacy\n",
        "\n",
        "NER = spacy.load(\"en_core_web_sm\")"
      ],
      "metadata": {
        "id": "HBoYcqF9X-Db"
      },
      "execution_count": 53,
      "outputs": []
    },
    {
      "cell_type": "code",
      "source": [
        "text=\"The Indian Space Research Organisation or is the national space agency of India, headquartered in Bengaluru. It operates under Department of Space which is directly overseen by the Prime Minister of India while Chairman of ISRO acts as executive of DOS as well.\"\n",
        "\n",
        "text1= NER(text)\n",
        "for word in text1.ents:\n",
        "    print(\"**************************************\")\n",
        "\n",
        "    print(word.text,\"*************>>>\",word.label_)\n"
      ],
      "metadata": {
        "colab": {
          "base_uri": "https://localhost:8080/"
        },
        "id": "tK2G3KaVY4rC",
        "outputId": "92aa6278-6e95-446d-9bba-b5e1deef3394"
      },
      "execution_count": 54,
      "outputs": [
        {
          "output_type": "stream",
          "name": "stdout",
          "text": [
            "**************************************\n",
            "The Indian Space Research Organisation *************>>> ORG\n",
            "**************************************\n",
            "India *************>>> GPE\n",
            "**************************************\n",
            "Bengaluru *************>>> GPE\n",
            "**************************************\n",
            "Department of Space *************>>> ORG\n",
            "**************************************\n",
            "India *************>>> GPE\n",
            "**************************************\n",
            "ISRO *************>>> ORG\n",
            "**************************************\n",
            "DOS *************>>> ORG\n"
          ]
        }
      ]
    },
    {
      "cell_type": "code",
      "source": [
        "spacy.explain(\"ORG\")"
      ],
      "metadata": {
        "colab": {
          "base_uri": "https://localhost:8080/",
          "height": 36
        },
        "id": "hsGnum9bY8RN",
        "outputId": "5ac6584a-2463-4e9f-9f76-0e28713c4184"
      },
      "execution_count": 55,
      "outputs": [
        {
          "output_type": "execute_result",
          "data": {
            "text/plain": [
              "'Companies, agencies, institutions, etc.'"
            ],
            "application/vnd.google.colaboratory.intrinsic+json": {
              "type": "string"
            }
          },
          "metadata": {},
          "execution_count": 55
        }
      ]
    },
    {
      "cell_type": "code",
      "source": [
        "spacy.explain(\"GPE\")"
      ],
      "metadata": {
        "colab": {
          "base_uri": "https://localhost:8080/",
          "height": 36
        },
        "id": "hLT8pUOhZBGZ",
        "outputId": "d801264c-c039-44e5-a638-725c69e5dcd7"
      },
      "execution_count": 56,
      "outputs": [
        {
          "output_type": "execute_result",
          "data": {
            "text/plain": [
              "'Countries, cities, states'"
            ],
            "application/vnd.google.colaboratory.intrinsic+json": {
              "type": "string"
            }
          },
          "metadata": {},
          "execution_count": 56
        }
      ]
    },
    {
      "cell_type": "code",
      "source": [
        "displacy.render(text1,style=\"ent\",jupyter=True)"
      ],
      "metadata": {
        "colab": {
          "base_uri": "https://localhost:8080/",
          "height": 142
        },
        "id": "-6KTQKw4ZGcI",
        "outputId": "80c78c1a-97c9-49f4-c77f-d205d41c8aa7"
      },
      "execution_count": 57,
      "outputs": [
        {
          "output_type": "display_data",
          "data": {
            "text/plain": [
              "<IPython.core.display.HTML object>"
            ],
            "text/html": [
              "<span class=\"tex2jax_ignore\"><div class=\"entities\" style=\"line-height: 2.5; direction: ltr\">\n",
              "<mark class=\"entity\" style=\"background: #7aecec; padding: 0.45em 0.6em; margin: 0 0.25em; line-height: 1; border-radius: 0.35em;\">\n",
              "    The Indian Space Research Organisation\n",
              "    <span style=\"font-size: 0.8em; font-weight: bold; line-height: 1; border-radius: 0.35em; vertical-align: middle; margin-left: 0.5rem\">ORG</span>\n",
              "</mark>\n",
              " or is the national space agency of \n",
              "<mark class=\"entity\" style=\"background: #feca74; padding: 0.45em 0.6em; margin: 0 0.25em; line-height: 1; border-radius: 0.35em;\">\n",
              "    India\n",
              "    <span style=\"font-size: 0.8em; font-weight: bold; line-height: 1; border-radius: 0.35em; vertical-align: middle; margin-left: 0.5rem\">GPE</span>\n",
              "</mark>\n",
              ", headquartered in \n",
              "<mark class=\"entity\" style=\"background: #feca74; padding: 0.45em 0.6em; margin: 0 0.25em; line-height: 1; border-radius: 0.35em;\">\n",
              "    Bengaluru\n",
              "    <span style=\"font-size: 0.8em; font-weight: bold; line-height: 1; border-radius: 0.35em; vertical-align: middle; margin-left: 0.5rem\">GPE</span>\n",
              "</mark>\n",
              ". It operates under \n",
              "<mark class=\"entity\" style=\"background: #7aecec; padding: 0.45em 0.6em; margin: 0 0.25em; line-height: 1; border-radius: 0.35em;\">\n",
              "    Department of Space\n",
              "    <span style=\"font-size: 0.8em; font-weight: bold; line-height: 1; border-radius: 0.35em; vertical-align: middle; margin-left: 0.5rem\">ORG</span>\n",
              "</mark>\n",
              " which is directly overseen by the Prime Minister of \n",
              "<mark class=\"entity\" style=\"background: #feca74; padding: 0.45em 0.6em; margin: 0 0.25em; line-height: 1; border-radius: 0.35em;\">\n",
              "    India\n",
              "    <span style=\"font-size: 0.8em; font-weight: bold; line-height: 1; border-radius: 0.35em; vertical-align: middle; margin-left: 0.5rem\">GPE</span>\n",
              "</mark>\n",
              " while Chairman of \n",
              "<mark class=\"entity\" style=\"background: #7aecec; padding: 0.45em 0.6em; margin: 0 0.25em; line-height: 1; border-radius: 0.35em;\">\n",
              "    ISRO\n",
              "    <span style=\"font-size: 0.8em; font-weight: bold; line-height: 1; border-radius: 0.35em; vertical-align: middle; margin-left: 0.5rem\">ORG</span>\n",
              "</mark>\n",
              " acts as executive of \n",
              "<mark class=\"entity\" style=\"background: #7aecec; padding: 0.45em 0.6em; margin: 0 0.25em; line-height: 1; border-radius: 0.35em;\">\n",
              "    DOS\n",
              "    <span style=\"font-size: 0.8em; font-weight: bold; line-height: 1; border-radius: 0.35em; vertical-align: middle; margin-left: 0.5rem\">ORG</span>\n",
              "</mark>\n",
              " as well.</div></span>"
            ]
          },
          "metadata": {}
        }
      ]
    },
    {
      "cell_type": "code",
      "source": [],
      "metadata": {
        "id": "lZqNaqnVZJP5"
      },
      "execution_count": null,
      "outputs": []
    }
  ]
}