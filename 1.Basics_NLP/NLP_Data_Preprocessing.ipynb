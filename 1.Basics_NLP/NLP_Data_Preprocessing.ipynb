{
  "nbformat": 4,
  "nbformat_minor": 0,
  "metadata": {
    "colab": {
      "provenance": [],
      "authorship_tag": "ABX9TyPGnGNxlvNEuoNGBpEX6gvi",
      "include_colab_link": true
    },
    "kernelspec": {
      "name": "python3",
      "display_name": "Python 3"
    },
    "language_info": {
      "name": "python"
    }
  },
  "cells": [
    {
      "cell_type": "markdown",
      "metadata": {
        "id": "view-in-github",
        "colab_type": "text"
      },
      "source": [
        "<a href=\"https://colab.research.google.com/github/AIWalaBro/Complete_NLP/blob/main/1.Basics_NLP/NLP_Data_Preprocessing.ipynb\" target=\"_parent\"><img src=\"https://colab.research.google.com/assets/colab-badge.svg\" alt=\"Open In Colab\"/></a>"
      ]
    },
    {
      "cell_type": "markdown",
      "source": [
        "- tokenization\n",
        "- lemmatization\n",
        "- stemming"
      ],
      "metadata": {
        "id": "PQzu_ZFTBLp3"
      }
    },
    {
      "cell_type": "code",
      "execution_count": null,
      "metadata": {
        "colab": {
          "base_uri": "https://localhost:8080/"
        },
        "id": "eD19WqlMdrMK",
        "outputId": "02e23fc3-74dd-423c-84af-76ecc9f8233b"
      },
      "outputs": [
        {
          "output_type": "stream",
          "name": "stdout",
          "text": [
            "['Hi', ' I am a Bharatbhushan ', ' I am workinh in India', ' May i know How are you!']\n"
          ]
        }
      ],
      "source": [
        "text = 'Hi, I am a Bharatbhushan , I am workinh in India, May i know How are you!'\n",
        "tokens = text.split(',')\n",
        "print(tokens)\n"
      ]
    },
    {
      "cell_type": "markdown",
      "source": [
        "# python split() word tokenization"
      ],
      "metadata": {
        "id": "0QlAWgi3GQVj"
      }
    },
    {
      "cell_type": "code",
      "source": [
        "# paragraphs cvonverted into words\n",
        "para = '''Mohandas Karamchand Gandhi (2 October 1869 – 30 January 1948) was an Indian lawyer, anti-colonial\n",
        "nationalist and political ethicist who employed nonviolent resistance to lead the successful campaign for India's\n",
        "independence from British rule. He inspired movements for civil rights and freedom across'''\n",
        "\n",
        "words = para.split()\n",
        "print(words)"
      ],
      "metadata": {
        "colab": {
          "base_uri": "https://localhost:8080/"
        },
        "id": "570k_KzOB9ck",
        "outputId": "0a552777-b4f2-4993-f2ea-87c6d2492924"
      },
      "execution_count": null,
      "outputs": [
        {
          "output_type": "stream",
          "name": "stdout",
          "text": [
            "['Mohandas', 'Karamchand', 'Gandhi', '(2', 'October', '1869', '–', '30', 'January', '1948)', 'was', 'an', 'Indian', 'lawyer,', 'anti-colonial', 'nationalist', 'and', 'political', 'ethicist', 'who', 'employed', 'nonviolent', 'resistance', 'to', 'lead', 'the', 'successful', 'campaign', 'for', \"India's\", 'independence', 'from', 'British', 'rule.', 'He', 'inspired', 'movements', 'for', 'civil', 'rights', 'and', 'freedom', 'across']\n"
          ]
        }
      ]
    },
    {
      "cell_type": "code",
      "source": [
        "# paragraph. into the sentensces\n",
        "para = '''Mohandas Karamchand Gandhi (2 October 1869 – 30 January 1948) was an Indian lawyer, anti-colonial\n",
        "nationalist and political ethicist who employed nonviolent resistance to lead the successful campaign for India's\n",
        "independence from British rule. He inspired movements for civil rights and freedom across'''\n",
        "\n",
        "para.split('.')\n",
        "print(para)"
      ],
      "metadata": {
        "colab": {
          "base_uri": "https://localhost:8080/"
        },
        "id": "z0S1-ARMH2OJ",
        "outputId": "2482cf2b-a58d-481a-e1e4-f2b53229967d"
      },
      "execution_count": null,
      "outputs": [
        {
          "output_type": "stream",
          "name": "stdout",
          "text": [
            "Mohandas Karamchand Gandhi (2 October 1869 – 30 January 1948) was an Indian lawyer, anti-colonial \n",
            "nationalist and political ethicist who employed nonviolent resistance to lead the successful campaign for India's \n",
            "independence from British rule. He inspired movements for civil rights and freedom across\n"
          ]
        }
      ]
    },
    {
      "cell_type": "code",
      "source": [
        "# to remove alphanumeric from all the text\n",
        "# [/w] :- it will find alphanumeric\n",
        "# + :- from all the text\n",
        "\n",
        "import re\n",
        "\n",
        "para = '''Mohandas Karamchand @Gandhi 2 October 1869 – 30 January 1948 was an Indian lawyer, anti-colonial\n",
        "nationalist and political ethicist who employed nonviolent resistance to lead the successful campaign for India's\n",
        "independence from British rule. He inspired movements for civil rights and freedom across'''\n",
        "\n",
        "tokens = re.findall(\"[\\w]+\", para)\n",
        "print(tokens)"
      ],
      "metadata": {
        "colab": {
          "base_uri": "https://localhost:8080/"
        },
        "id": "O9cnfqisMXb2",
        "outputId": "848292c3-7e14-4276-fef2-bb83287afb4b"
      },
      "execution_count": null,
      "outputs": [
        {
          "output_type": "stream",
          "name": "stdout",
          "text": [
            "['Mohandas', 'Karamchand', 'Gandhi', '2', 'October', '1869', '30', 'January', '1948', 'was', 'an', 'Indian', 'lawyer', 'anti', 'colonial', 'nationalist', 'and', 'political', 'ethicist', 'who', 'employed', 'nonviolent', 'resistance', 'to', 'lead', 'the', 'successful', 'campaign', 'for', 'India', 's', 'independence', 'from', 'British', 'rule', 'He', 'inspired', 'movements', 'for', 'civil', 'rights', 'and', 'freedom', 'across']\n"
          ]
        }
      ]
    },
    {
      "cell_type": "code",
      "source": [
        "# on the bais of special symbol we have to do the text preprocessing\n",
        "# paragraph. into the sentensces\n",
        "# we will remove the special charcter with compile method\n",
        "\n",
        "para = '''Mohandas Karamchand @ Gandhi (2 October 1869 – 30 January 1948) was an Indian lawyer, anti-colonial\n",
        "nationalist and political ethicist who employed nonviolent resistance to lead the successful campaign for India's\n",
        "independence from British rule!. He inspired movements for civil rights and freedom across?'''\n",
        "\n",
        "tokens = re.compile('[-!@?,\\n]').split(para)\n",
        "print(tokens)"
      ],
      "metadata": {
        "colab": {
          "base_uri": "https://localhost:8080/"
        },
        "id": "P6gTU3IxQUSg",
        "outputId": "6aaaa220-3c1b-4ce4-8ccd-ac181e6d42ae"
      },
      "execution_count": null,
      "outputs": [
        {
          "output_type": "stream",
          "name": "stdout",
          "text": [
            "['Mohandas Karamchand ', ' Gandhi (2 October 1869 – 30 January 1948) was an Indian lawyer', ' anti', 'colonial ', \"nationalist and political ethicist who employed nonviolent resistance to lead the successful campaign for India's \", 'independence from British rule', '. He inspired movements for civil rights and freedom across', '']\n"
          ]
        }
      ]
    },
    {
      "cell_type": "markdown",
      "source": [
        "# NLTK"
      ],
      "metadata": {
        "id": "6dFYm3JgVC7P"
      }
    },
    {
      "cell_type": "code",
      "source": [
        "import warnings\n",
        "\n",
        "\n",
        "# Apply the custom filter (optional)\n",
        "warnings.filterwarnings(\"ignore\")\n",
        "\n",
        "\n"
      ],
      "metadata": {
        "id": "ejQVF-m7VLI4"
      },
      "execution_count": null,
      "outputs": []
    },
    {
      "cell_type": "code",
      "source": [
        "!pip install --user -U nltk"
      ],
      "metadata": {
        "colab": {
          "base_uri": "https://localhost:8080/"
        },
        "id": "YwNuHNvtS2s4",
        "outputId": "8e3c72f0-7d8a-4936-e875-2d818fa0c6e1"
      },
      "execution_count": null,
      "outputs": [
        {
          "output_type": "stream",
          "name": "stdout",
          "text": [
            "Requirement already satisfied: nltk in /usr/local/lib/python3.10/dist-packages (3.8.1)\n",
            "Requirement already satisfied: click in /usr/local/lib/python3.10/dist-packages (from nltk) (8.1.7)\n",
            "Requirement already satisfied: joblib in /usr/local/lib/python3.10/dist-packages (from nltk) (1.3.2)\n",
            "Requirement already satisfied: regex>=2021.8.3 in /usr/local/lib/python3.10/dist-packages (from nltk) (2023.6.3)\n",
            "Requirement already satisfied: tqdm in /usr/local/lib/python3.10/dist-packages (from nltk) (4.66.1)\n"
          ]
        }
      ]
    },
    {
      "cell_type": "code",
      "source": [
        "from nltk.tokenize import word_tokenize"
      ],
      "metadata": {
        "id": "36n0ym4wWHw3"
      },
      "execution_count": null,
      "outputs": []
    },
    {
      "cell_type": "code",
      "source": [
        "import nltk\n",
        "nltk.download('punkt')"
      ],
      "metadata": {
        "colab": {
          "base_uri": "https://localhost:8080/"
        },
        "id": "jEJOYXmyXC_C",
        "outputId": "bc6bd0b6-688d-4821-ad85-3e8d5f92bd67"
      },
      "execution_count": null,
      "outputs": [
        {
          "output_type": "stream",
          "name": "stderr",
          "text": [
            "[nltk_data] Downloading package punkt to /root/nltk_data...\n",
            "[nltk_data]   Unzipping tokenizers/punkt.zip.\n"
          ]
        },
        {
          "output_type": "execute_result",
          "data": {
            "text/plain": [
              "True"
            ]
          },
          "metadata": {},
          "execution_count": 2
        }
      ]
    },
    {
      "cell_type": "markdown",
      "source": [
        "# Word Tokenizer\n",
        "- the text will converted into word and splitted at each and every word."
      ],
      "metadata": {
        "id": "ugoay4K314rZ"
      }
    },
    {
      "cell_type": "code",
      "source": [
        "para = '''Mohandas Karamchand @ Gandhi (2 October 1869 – 30 January 1948) was an Indian lawyer, anti-colonial\n",
        "nationalist and political ethicist who employed nonviolent resistance to lead the successful campaign for India's\n",
        "independence from British rule!. He inspired movements for civil rights and freedom across?'''\n",
        "\n",
        "tokens = word_tokenize(para)\n",
        "print(tokens)"
      ],
      "metadata": {
        "colab": {
          "base_uri": "https://localhost:8080/"
        },
        "id": "i3iXGk_-WzJJ",
        "outputId": "baa528a3-fe74-4de4-82cf-8507cc0fd1f8"
      },
      "execution_count": null,
      "outputs": [
        {
          "output_type": "stream",
          "name": "stdout",
          "text": [
            "['Mohandas', 'Karamchand', '@', 'Gandhi', '(', '2', 'October', '1869', '–', '30', 'January', '1948', ')', 'was', 'an', 'Indian', 'lawyer', ',', 'anti-colonial', 'nationalist', 'and', 'political', 'ethicist', 'who', 'employed', 'nonviolent', 'resistance', 'to', 'lead', 'the', 'successful', 'campaign', 'for', 'India', \"'s\", 'independence', 'from', 'British', 'rule', '!', '.', 'He', 'inspired', 'movements', 'for', 'civil', 'rights', 'and', 'freedom', 'across', '?']\n"
          ]
        }
      ]
    },
    {
      "cell_type": "markdown",
      "source": [
        "# Sentense Tokenizer\n",
        "- the text will splitted or we can sat converted into the sentense and it will splitted at fullstop."
      ],
      "metadata": {
        "id": "VHpPM7e-1zov"
      }
    },
    {
      "cell_type": "code",
      "source": [
        "from nltk.tokenize import sent_tokenize\n",
        "\n",
        "para = '''Mohandas Karamchand @ Gandhi (2 October 1869 – 30 January 1948) was an Indian lawyer, anti-colonial\n",
        "nationalist and political ethicist who employed nonviolent resistance to lead the successful campaign for India's\n",
        "independence from British rule!. He inspired movements for civil rights and freedom across?'''\n",
        "\n",
        "tokens = sent_tokenize(para)\n",
        "print(tokens)"
      ],
      "metadata": {
        "colab": {
          "base_uri": "https://localhost:8080/"
        },
        "id": "N2hpN7rhW-Ii",
        "outputId": "50dfd752-502a-4be7-ea66-045d8b805b07"
      },
      "execution_count": null,
      "outputs": [
        {
          "output_type": "stream",
          "name": "stdout",
          "text": [
            "[\"Mohandas Karamchand @ Gandhi (2 October 1869 – 30 January 1948) was an Indian lawyer, anti-colonial \\nnationalist and political ethicist who employed nonviolent resistance to lead the successful campaign for India's \\nindependence from British rule!.\", 'He inspired movements for civil rights and freedom across?']\n"
          ]
        }
      ]
    },
    {
      "cell_type": "markdown",
      "source": [
        "# word punctuation\n",
        "- on the basis of each and evry punctuation it will splitted, even though there is dot it will split and whitespaces also."
      ],
      "metadata": {
        "id": "LvsShkie3JkB"
      }
    },
    {
      "cell_type": "code",
      "source": [
        "from nltk.tokenize import word_tokenize"
      ],
      "metadata": {
        "id": "1eS5JjUn2cDe"
      },
      "execution_count": null,
      "outputs": []
    },
    {
      "cell_type": "code",
      "source": [
        "para = '''Mohandas Karamchand @ Gandhi (2 October 1869 – 30 January 1948) was an Indian lawyer, anti-colonial\n",
        "nationalist and political ethicist who employed nonviolent resistance to lead the successful campaign for India's\n",
        "independence from British rule!. He inspired movements for civil rights and freedom across?'''\n",
        "\n",
        "print(word_tokenize(para))"
      ],
      "metadata": {
        "colab": {
          "base_uri": "https://localhost:8080/"
        },
        "id": "HqmgurJD3WIB",
        "outputId": "41d6a173-b29a-46f1-c389-6bb5e89fe7d5"
      },
      "execution_count": null,
      "outputs": [
        {
          "output_type": "stream",
          "name": "stdout",
          "text": [
            "['Mohandas', 'Karamchand', '@', 'Gandhi', '(', '2', 'October', '1869', '–', '30', 'January', '1948', ')', 'was', 'an', 'Indian', 'lawyer', ',', 'anti-colonial', 'nationalist', 'and', 'political', 'ethicist', 'who', 'employed', 'nonviolent', 'resistance', 'to', 'lead', 'the', 'successful', 'campaign', 'for', 'India', \"'s\", 'independence', 'from', 'British', 'rule', '!', '.', 'He', 'inspired', 'movements', 'for', 'civil', 'rights', 'and', 'freedom', 'across', '?']\n"
          ]
        }
      ]
    },
    {
      "cell_type": "markdown",
      "source": [
        "#Tweet Tokenizer"
      ],
      "metadata": {
        "id": "tdTrcFEw5JNw"
      }
    },
    {
      "cell_type": "code",
      "source": [
        "from nltk.tokenize import  TweetTokenizer\n"
      ],
      "metadata": {
        "id": "FgR5GXgz3iJz"
      },
      "execution_count": null,
      "outputs": []
    },
    {
      "cell_type": "code",
      "source": [
        "text = 'hi i am bharatbhushan Dwarkewasi, i am 😀 😃 😄 😁 😆 😅 😂 🤣 🥲 🥹 ☺️ 😊 😇 😎 🥸 🤩 🥳 '\n",
        "tokenizer = TweetTokenizer()\n",
        "print(tokenizer.tokenize(text))\n",
        "\n"
      ],
      "metadata": {
        "colab": {
          "base_uri": "https://localhost:8080/"
        },
        "id": "Abd1LUz05TKe",
        "outputId": "111d74cb-9585-4643-c517-3faf654c5d11"
      },
      "execution_count": null,
      "outputs": [
        {
          "output_type": "stream",
          "name": "stdout",
          "text": [
            "['hi', 'i', 'am', 'bharatbhushan', 'Dwarkewasi', ',', 'i', 'am', '😀', '😃', '😄', '😁', '😆', '😅', '😂', '🤣', '🥲', '\\U0001f979', '☺', '️', '😊', '😇', '😎', '🥸', '🤩', '🥳']\n"
          ]
        }
      ]
    },
    {
      "cell_type": "markdown",
      "source": [
        "#Spacy"
      ],
      "metadata": {
        "id": "O8XAwrMl_Y1e"
      }
    },
    {
      "cell_type": "code",
      "source": [
        "!pip install spacy"
      ],
      "metadata": {
        "colab": {
          "base_uri": "https://localhost:8080/"
        },
        "id": "honQykch5uip",
        "outputId": "ca7fae7b-2755-4b80-a949-2a7242d85f9e"
      },
      "execution_count": null,
      "outputs": [
        {
          "output_type": "stream",
          "name": "stdout",
          "text": [
            "Requirement already satisfied: spacy in /usr/local/lib/python3.10/dist-packages (3.6.1)\n",
            "Requirement already satisfied: spacy-legacy<3.1.0,>=3.0.11 in /usr/local/lib/python3.10/dist-packages (from spacy) (3.0.12)\n",
            "Requirement already satisfied: spacy-loggers<2.0.0,>=1.0.0 in /usr/local/lib/python3.10/dist-packages (from spacy) (1.0.4)\n",
            "Requirement already satisfied: murmurhash<1.1.0,>=0.28.0 in /usr/local/lib/python3.10/dist-packages (from spacy) (1.0.9)\n",
            "Requirement already satisfied: cymem<2.1.0,>=2.0.2 in /usr/local/lib/python3.10/dist-packages (from spacy) (2.0.7)\n",
            "Requirement already satisfied: preshed<3.1.0,>=3.0.2 in /usr/local/lib/python3.10/dist-packages (from spacy) (3.0.8)\n",
            "Requirement already satisfied: thinc<8.2.0,>=8.1.8 in /usr/local/lib/python3.10/dist-packages (from spacy) (8.1.12)\n",
            "Requirement already satisfied: wasabi<1.2.0,>=0.9.1 in /usr/local/lib/python3.10/dist-packages (from spacy) (1.1.2)\n",
            "Requirement already satisfied: srsly<3.0.0,>=2.4.3 in /usr/local/lib/python3.10/dist-packages (from spacy) (2.4.7)\n",
            "Requirement already satisfied: catalogue<2.1.0,>=2.0.6 in /usr/local/lib/python3.10/dist-packages (from spacy) (2.0.9)\n",
            "Requirement already satisfied: typer<0.10.0,>=0.3.0 in /usr/local/lib/python3.10/dist-packages (from spacy) (0.9.0)\n",
            "Requirement already satisfied: pathy>=0.10.0 in /usr/local/lib/python3.10/dist-packages (from spacy) (0.10.2)\n",
            "Requirement already satisfied: smart-open<7.0.0,>=5.2.1 in /usr/local/lib/python3.10/dist-packages (from spacy) (6.3.0)\n",
            "Requirement already satisfied: tqdm<5.0.0,>=4.38.0 in /usr/local/lib/python3.10/dist-packages (from spacy) (4.66.1)\n",
            "Requirement already satisfied: numpy>=1.15.0 in /usr/local/lib/python3.10/dist-packages (from spacy) (1.23.5)\n",
            "Requirement already satisfied: requests<3.0.0,>=2.13.0 in /usr/local/lib/python3.10/dist-packages (from spacy) (2.31.0)\n",
            "Requirement already satisfied: pydantic!=1.8,!=1.8.1,<3.0.0,>=1.7.4 in /usr/local/lib/python3.10/dist-packages (from spacy) (2.2.1)\n",
            "Requirement already satisfied: jinja2 in /usr/local/lib/python3.10/dist-packages (from spacy) (3.1.2)\n",
            "Requirement already satisfied: setuptools in /usr/local/lib/python3.10/dist-packages (from spacy) (67.7.2)\n",
            "Requirement already satisfied: packaging>=20.0 in /usr/local/lib/python3.10/dist-packages (from spacy) (23.1)\n",
            "Requirement already satisfied: langcodes<4.0.0,>=3.2.0 in /usr/local/lib/python3.10/dist-packages (from spacy) (3.3.0)\n",
            "Requirement already satisfied: annotated-types>=0.4.0 in /usr/local/lib/python3.10/dist-packages (from pydantic!=1.8,!=1.8.1,<3.0.0,>=1.7.4->spacy) (0.5.0)\n",
            "Requirement already satisfied: pydantic-core==2.6.1 in /usr/local/lib/python3.10/dist-packages (from pydantic!=1.8,!=1.8.1,<3.0.0,>=1.7.4->spacy) (2.6.1)\n",
            "Requirement already satisfied: typing-extensions>=4.6.1 in /usr/local/lib/python3.10/dist-packages (from pydantic!=1.8,!=1.8.1,<3.0.0,>=1.7.4->spacy) (4.7.1)\n",
            "Requirement already satisfied: charset-normalizer<4,>=2 in /usr/local/lib/python3.10/dist-packages (from requests<3.0.0,>=2.13.0->spacy) (3.2.0)\n",
            "Requirement already satisfied: idna<4,>=2.5 in /usr/local/lib/python3.10/dist-packages (from requests<3.0.0,>=2.13.0->spacy) (3.4)\n",
            "Requirement already satisfied: urllib3<3,>=1.21.1 in /usr/local/lib/python3.10/dist-packages (from requests<3.0.0,>=2.13.0->spacy) (2.0.4)\n",
            "Requirement already satisfied: certifi>=2017.4.17 in /usr/local/lib/python3.10/dist-packages (from requests<3.0.0,>=2.13.0->spacy) (2023.7.22)\n",
            "Requirement already satisfied: blis<0.8.0,>=0.7.8 in /usr/local/lib/python3.10/dist-packages (from thinc<8.2.0,>=8.1.8->spacy) (0.7.10)\n",
            "Requirement already satisfied: confection<1.0.0,>=0.0.1 in /usr/local/lib/python3.10/dist-packages (from thinc<8.2.0,>=8.1.8->spacy) (0.1.1)\n",
            "Requirement already satisfied: click<9.0.0,>=7.1.1 in /usr/local/lib/python3.10/dist-packages (from typer<0.10.0,>=0.3.0->spacy) (8.1.7)\n",
            "Requirement already satisfied: MarkupSafe>=2.0 in /usr/local/lib/python3.10/dist-packages (from jinja2->spacy) (2.1.3)\n"
          ]
        }
      ]
    },
    {
      "cell_type": "code",
      "source": [
        "!python -m spacy download en"
      ],
      "metadata": {
        "colab": {
          "base_uri": "https://localhost:8080/"
        },
        "id": "qfH9mSCc_fZ9",
        "outputId": "7b59c3dc-fb3e-49c5-8d98-6d7c70030df7"
      },
      "execution_count": null,
      "outputs": [
        {
          "output_type": "stream",
          "name": "stdout",
          "text": [
            "2023-08-29 11:13:26.524618: I tensorflow/core/platform/cpu_feature_guard.cc:182] This TensorFlow binary is optimized to use available CPU instructions in performance-critical operations.\n",
            "To enable the following instructions: AVX2 FMA, in other operations, rebuild TensorFlow with the appropriate compiler flags.\n",
            "2023-08-29 11:13:28.258267: W tensorflow/compiler/tf2tensorrt/utils/py_utils.cc:38] TF-TRT Warning: Could not find TensorRT\n",
            "\u001b[38;5;3m⚠ As of spaCy v3.0, shortcuts like 'en' are deprecated. Please use the\n",
            "full pipeline package name 'en_core_web_sm' instead.\u001b[0m\n",
            "Collecting en-core-web-sm==3.6.0\n",
            "  Downloading https://github.com/explosion/spacy-models/releases/download/en_core_web_sm-3.6.0/en_core_web_sm-3.6.0-py3-none-any.whl (12.8 MB)\n",
            "\u001b[2K     \u001b[90m━━━━━━━━━━━━━━━━━━━━━━━━━━━━━━━━━━━━━━━━\u001b[0m \u001b[32m12.8/12.8 MB\u001b[0m \u001b[31m27.3 MB/s\u001b[0m eta \u001b[36m0:00:00\u001b[0m\n",
            "\u001b[?25hRequirement already satisfied: spacy<3.7.0,>=3.6.0 in /usr/local/lib/python3.10/dist-packages (from en-core-web-sm==3.6.0) (3.6.1)\n",
            "Requirement already satisfied: spacy-legacy<3.1.0,>=3.0.11 in /usr/local/lib/python3.10/dist-packages (from spacy<3.7.0,>=3.6.0->en-core-web-sm==3.6.0) (3.0.12)\n",
            "Requirement already satisfied: spacy-loggers<2.0.0,>=1.0.0 in /usr/local/lib/python3.10/dist-packages (from spacy<3.7.0,>=3.6.0->en-core-web-sm==3.6.0) (1.0.4)\n",
            "Requirement already satisfied: murmurhash<1.1.0,>=0.28.0 in /usr/local/lib/python3.10/dist-packages (from spacy<3.7.0,>=3.6.0->en-core-web-sm==3.6.0) (1.0.9)\n",
            "Requirement already satisfied: cymem<2.1.0,>=2.0.2 in /usr/local/lib/python3.10/dist-packages (from spacy<3.7.0,>=3.6.0->en-core-web-sm==3.6.0) (2.0.7)\n",
            "Requirement already satisfied: preshed<3.1.0,>=3.0.2 in /usr/local/lib/python3.10/dist-packages (from spacy<3.7.0,>=3.6.0->en-core-web-sm==3.6.0) (3.0.8)\n",
            "Requirement already satisfied: thinc<8.2.0,>=8.1.8 in /usr/local/lib/python3.10/dist-packages (from spacy<3.7.0,>=3.6.0->en-core-web-sm==3.6.0) (8.1.12)\n",
            "Requirement already satisfied: wasabi<1.2.0,>=0.9.1 in /usr/local/lib/python3.10/dist-packages (from spacy<3.7.0,>=3.6.0->en-core-web-sm==3.6.0) (1.1.2)\n",
            "Requirement already satisfied: srsly<3.0.0,>=2.4.3 in /usr/local/lib/python3.10/dist-packages (from spacy<3.7.0,>=3.6.0->en-core-web-sm==3.6.0) (2.4.7)\n",
            "Requirement already satisfied: catalogue<2.1.0,>=2.0.6 in /usr/local/lib/python3.10/dist-packages (from spacy<3.7.0,>=3.6.0->en-core-web-sm==3.6.0) (2.0.9)\n",
            "Requirement already satisfied: typer<0.10.0,>=0.3.0 in /usr/local/lib/python3.10/dist-packages (from spacy<3.7.0,>=3.6.0->en-core-web-sm==3.6.0) (0.9.0)\n",
            "Requirement already satisfied: pathy>=0.10.0 in /usr/local/lib/python3.10/dist-packages (from spacy<3.7.0,>=3.6.0->en-core-web-sm==3.6.0) (0.10.2)\n",
            "Requirement already satisfied: smart-open<7.0.0,>=5.2.1 in /usr/local/lib/python3.10/dist-packages (from spacy<3.7.0,>=3.6.0->en-core-web-sm==3.6.0) (6.3.0)\n",
            "Requirement already satisfied: tqdm<5.0.0,>=4.38.0 in /usr/local/lib/python3.10/dist-packages (from spacy<3.7.0,>=3.6.0->en-core-web-sm==3.6.0) (4.66.1)\n",
            "Requirement already satisfied: numpy>=1.15.0 in /usr/local/lib/python3.10/dist-packages (from spacy<3.7.0,>=3.6.0->en-core-web-sm==3.6.0) (1.23.5)\n",
            "Requirement already satisfied: requests<3.0.0,>=2.13.0 in /usr/local/lib/python3.10/dist-packages (from spacy<3.7.0,>=3.6.0->en-core-web-sm==3.6.0) (2.31.0)\n",
            "Requirement already satisfied: pydantic!=1.8,!=1.8.1,<3.0.0,>=1.7.4 in /usr/local/lib/python3.10/dist-packages (from spacy<3.7.0,>=3.6.0->en-core-web-sm==3.6.0) (2.2.1)\n",
            "Requirement already satisfied: jinja2 in /usr/local/lib/python3.10/dist-packages (from spacy<3.7.0,>=3.6.0->en-core-web-sm==3.6.0) (3.1.2)\n",
            "Requirement already satisfied: setuptools in /usr/local/lib/python3.10/dist-packages (from spacy<3.7.0,>=3.6.0->en-core-web-sm==3.6.0) (67.7.2)\n",
            "Requirement already satisfied: packaging>=20.0 in /usr/local/lib/python3.10/dist-packages (from spacy<3.7.0,>=3.6.0->en-core-web-sm==3.6.0) (23.1)\n",
            "Requirement already satisfied: langcodes<4.0.0,>=3.2.0 in /usr/local/lib/python3.10/dist-packages (from spacy<3.7.0,>=3.6.0->en-core-web-sm==3.6.0) (3.3.0)\n",
            "Requirement already satisfied: annotated-types>=0.4.0 in /usr/local/lib/python3.10/dist-packages (from pydantic!=1.8,!=1.8.1,<3.0.0,>=1.7.4->spacy<3.7.0,>=3.6.0->en-core-web-sm==3.6.0) (0.5.0)\n",
            "Requirement already satisfied: pydantic-core==2.6.1 in /usr/local/lib/python3.10/dist-packages (from pydantic!=1.8,!=1.8.1,<3.0.0,>=1.7.4->spacy<3.7.0,>=3.6.0->en-core-web-sm==3.6.0) (2.6.1)\n",
            "Requirement already satisfied: typing-extensions>=4.6.1 in /usr/local/lib/python3.10/dist-packages (from pydantic!=1.8,!=1.8.1,<3.0.0,>=1.7.4->spacy<3.7.0,>=3.6.0->en-core-web-sm==3.6.0) (4.7.1)\n",
            "Requirement already satisfied: charset-normalizer<4,>=2 in /usr/local/lib/python3.10/dist-packages (from requests<3.0.0,>=2.13.0->spacy<3.7.0,>=3.6.0->en-core-web-sm==3.6.0) (3.2.0)\n",
            "Requirement already satisfied: idna<4,>=2.5 in /usr/local/lib/python3.10/dist-packages (from requests<3.0.0,>=2.13.0->spacy<3.7.0,>=3.6.0->en-core-web-sm==3.6.0) (3.4)\n",
            "Requirement already satisfied: urllib3<3,>=1.21.1 in /usr/local/lib/python3.10/dist-packages (from requests<3.0.0,>=2.13.0->spacy<3.7.0,>=3.6.0->en-core-web-sm==3.6.0) (2.0.4)\n",
            "Requirement already satisfied: certifi>=2017.4.17 in /usr/local/lib/python3.10/dist-packages (from requests<3.0.0,>=2.13.0->spacy<3.7.0,>=3.6.0->en-core-web-sm==3.6.0) (2023.7.22)\n",
            "Requirement already satisfied: blis<0.8.0,>=0.7.8 in /usr/local/lib/python3.10/dist-packages (from thinc<8.2.0,>=8.1.8->spacy<3.7.0,>=3.6.0->en-core-web-sm==3.6.0) (0.7.10)\n",
            "Requirement already satisfied: confection<1.0.0,>=0.0.1 in /usr/local/lib/python3.10/dist-packages (from thinc<8.2.0,>=8.1.8->spacy<3.7.0,>=3.6.0->en-core-web-sm==3.6.0) (0.1.1)\n",
            "Requirement already satisfied: click<9.0.0,>=7.1.1 in /usr/local/lib/python3.10/dist-packages (from typer<0.10.0,>=0.3.0->spacy<3.7.0,>=3.6.0->en-core-web-sm==3.6.0) (8.1.7)\n",
            "Requirement already satisfied: MarkupSafe>=2.0 in /usr/local/lib/python3.10/dist-packages (from jinja2->spacy<3.7.0,>=3.6.0->en-core-web-sm==3.6.0) (2.1.3)\n",
            "\u001b[38;5;2m✔ Download and installation successful\u001b[0m\n",
            "You can now load the package via spacy.load('en_core_web_sm')\n"
          ]
        }
      ]
    },
    {
      "cell_type": "code",
      "source": [
        "import spacy\n",
        "\n",
        "# Load the English language model\n",
        "nlp = spacy.load(\"en_core_web_sm\")\n"
      ],
      "metadata": {
        "id": "KljtTytjBS16"
      },
      "execution_count": null,
      "outputs": []
    },
    {
      "cell_type": "code",
      "source": [
        "text = '''Mohandas Karamchand @ Gandhi (2 October 1869 – 30 January 1948) was an Indian lawyer, anti-colonial\n",
        "nationalist and political ethicist who employed nonviolent resistance to lead the successful campaign for India's\n",
        "independence from British rule!. He inspired movements for civil rights and freedom across?'''\n",
        "\n",
        "doc = nlp(text)\n",
        "token_list = []\n",
        "for tokens in doc:\n",
        "  token_list.append(tokens.text)\n",
        "\n"
      ],
      "metadata": {
        "id": "cGPXMg5cBHFo"
      },
      "execution_count": null,
      "outputs": []
    },
    {
      "cell_type": "code",
      "source": [
        "token_list"
      ],
      "metadata": {
        "colab": {
          "base_uri": "https://localhost:8080/"
        },
        "id": "q-wn6KIsDlcR",
        "outputId": "a14a57b9-00d7-4da5-c0e4-02e819ce68b9"
      },
      "execution_count": null,
      "outputs": [
        {
          "output_type": "execute_result",
          "data": {
            "text/plain": [
              "['Mohandas',\n",
              " 'Karamchand',\n",
              " '@',\n",
              " 'Gandhi',\n",
              " '(',\n",
              " '2',\n",
              " 'October',\n",
              " '1869',\n",
              " '–',\n",
              " '30',\n",
              " 'January',\n",
              " '1948',\n",
              " ')',\n",
              " 'was',\n",
              " 'an',\n",
              " 'Indian',\n",
              " 'lawyer',\n",
              " ',',\n",
              " 'anti',\n",
              " '-',\n",
              " 'colonial',\n",
              " '\\n',\n",
              " 'nationalist',\n",
              " 'and',\n",
              " 'political',\n",
              " 'ethicist',\n",
              " 'who',\n",
              " 'employed',\n",
              " 'nonviolent',\n",
              " 'resistance',\n",
              " 'to',\n",
              " 'lead',\n",
              " 'the',\n",
              " 'successful',\n",
              " 'campaign',\n",
              " 'for',\n",
              " 'India',\n",
              " \"'s\",\n",
              " '\\n',\n",
              " 'independence',\n",
              " 'from',\n",
              " 'British',\n",
              " 'rule',\n",
              " '!',\n",
              " '.',\n",
              " 'He',\n",
              " 'inspired',\n",
              " 'movements',\n",
              " 'for',\n",
              " 'civil',\n",
              " 'rights',\n",
              " 'and',\n",
              " 'freedom',\n",
              " 'across',\n",
              " '?']"
            ]
          },
          "metadata": {},
          "execution_count": 25
        }
      ]
    },
    {
      "cell_type": "code",
      "source": [
        "# list comprehension\n",
        "\n",
        "text1 = 'hi my name is bhushan and i am learning datascience'\n",
        "doc = nlp(text1)\n",
        "token_list = [token.text for token in doc]\n",
        "print(token_list)"
      ],
      "metadata": {
        "colab": {
          "base_uri": "https://localhost:8080/"
        },
        "id": "c8vnvpklFlHV",
        "outputId": "8df2d5bb-8364-44c5-a415-4c5ec67ec18e"
      },
      "execution_count": null,
      "outputs": [
        {
          "output_type": "stream",
          "name": "stdout",
          "text": [
            "['hi', 'my', 'name', 'is', 'bhushan', 'and', 'i', 'am', 'learning', 'datascience']\n"
          ]
        }
      ]
    },
    {
      "cell_type": "markdown",
      "source": [
        "# Sentence Tokenizer"
      ],
      "metadata": {
        "id": "1lJd755GGw_P"
      }
    },
    {
      "cell_type": "code",
      "source": [
        "import spacy\n",
        "nlp = spacy.load(\"en_core_web_sm\")"
      ],
      "metadata": {
        "id": "2co-imyBF-rA"
      },
      "execution_count": null,
      "outputs": []
    },
    {
      "cell_type": "code",
      "source": [
        "text = '''It was in South Africa that Gandhi first experimented with the concept of Satyagraha, a\n",
        "form of nonviolent resistance. He organized campaigns against discriminatory laws and oppression,\n",
        "leading peaceful protests and boycotts. These experiences laid the foundation for his future activism in India.'''\n",
        "\n",
        "doc = nlp(text)\n",
        "sentense_list = []\n",
        "for tokens in doc.sents:\n",
        "  sentense_list.append(tokens.text)"
      ],
      "metadata": {
        "id": "24-q4ruGHDsO"
      },
      "execution_count": 32,
      "outputs": []
    },
    {
      "cell_type": "code",
      "source": [
        "sentense_list"
      ],
      "metadata": {
        "colab": {
          "base_uri": "https://localhost:8080/"
        },
        "id": "j2AEwBpqMj5u",
        "outputId": "02d63eb2-7fd1-4601-da89-5cbc7b71dd61"
      },
      "execution_count": 33,
      "outputs": [
        {
          "output_type": "execute_result",
          "data": {
            "text/plain": [
              "['It was in South Africa that Gandhi first experimented with the concept of Satyagraha, a\\nform of nonviolent resistance.',\n",
              " 'He organized campaigns against discriminatory laws and oppression,\\nleading peaceful protests and boycotts.',\n",
              " 'These experiences laid the foundation for his future activism in India.']"
            ]
          },
          "metadata": {},
          "execution_count": 33
        }
      ]
    },
    {
      "cell_type": "markdown",
      "source": [
        "#Sentencizer\n",
        "- with the help of sentensizer function we can convert text into the list of senetenses"
      ],
      "metadata": {
        "id": "_X-Ee3PAM0tH"
      }
    },
    {
      "cell_type": "code",
      "source": [
        "from spacy.lang.en import English\n",
        "\n",
        "# Load the English language model\n",
        "nlp = English()\n",
        "\n",
        "# Add the sentencizer component to the pipeline\n",
        "nlp.add_pipe('sentencizer')\n",
        "\n",
        "# Process your text\n",
        "text = '''It was in South Africa that Gandhi first experimented with the concept of Satyagraha, a\\nform of nonviolent'''\n",
        "doc = nlp(text)\n",
        "\n",
        "# Access sentences\n",
        "for sentence in doc.sents:\n",
        "    print(sentence.text)\n"
      ],
      "metadata": {
        "colab": {
          "base_uri": "https://localhost:8080/"
        },
        "id": "eItte00LPLIu",
        "outputId": "72baf628-1896-4964-e559-631045eb3ffc"
      },
      "execution_count": 42,
      "outputs": [
        {
          "output_type": "stream",
          "name": "stdout",
          "text": [
            "It was in South Africa that Gandhi first experimented with the concept of Satyagraha, a\n",
            "form of nonviolent\n"
          ]
        }
      ]
    },
    {
      "cell_type": "code",
      "source": [],
      "metadata": {
        "id": "0Dc5Tyg7Q1MK"
      },
      "execution_count": null,
      "outputs": []
    }
  ]
}